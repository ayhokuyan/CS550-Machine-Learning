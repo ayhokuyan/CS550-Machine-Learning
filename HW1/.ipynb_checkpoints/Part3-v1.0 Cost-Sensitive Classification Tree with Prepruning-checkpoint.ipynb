{
 "cells": [
  {
   "cell_type": "code",
   "execution_count": 1,
   "metadata": {},
   "outputs": [],
   "source": [
    "import numpy as np\n",
    "import pandas as pd\n",
    "import os\n",
    "import matplotlib.pyplot as plt\n",
    "from sklearn.metrics import ConfusionMatrixDisplay\n",
    "from sklearn.metrics import confusion_matrix"
   ]
  },
  {
   "cell_type": "code",
   "execution_count": 2,
   "metadata": {},
   "outputs": [
    {
     "name": "stdout",
     "output_type": "stream",
     "text": [
      "(3772, 22)\n",
      "(3428, 22)\n",
      "(3772, 20)\n",
      "(3772,)\n"
     ]
    }
   ],
   "source": [
    "#load train_data\n",
    "#set current working directory\n",
    "cwd = os.getcwd()\n",
    "#load train data as csv\n",
    "train_data = pd.read_csv(os.path.join(cwd, 'train_data.txt'), sep=' ', header=None)\n",
    "train_data.reset_index(drop=True, inplace=True)\n",
    "train_data = train_data.to_numpy()[:,:-2]\n",
    "\n",
    "#load test data as csv\n",
    "test_data = pd.read_csv(os.path.join(cwd, 'test_data.txt'), sep=' ', header=None)\n",
    "test_data.reset_index(drop=True, inplace=True)\n",
    "test_data = test_data.to_numpy()[:,:-2]\n",
    "\n",
    "#convert to features and labels\n",
    "print(train_data.shape)\n",
    "print(test_data.shape)\n",
    "\n",
    "numFeatures = train_data.shape[1]\n",
    "train_features = train_data[:,:numFeatures-2]\n",
    "train_labels = train_data[:,numFeatures-1]\n",
    "test_features = test_data[:,:numFeatures-2]\n",
    "test_labels = test_data[:,numFeatures-1]\n",
    "\n",
    "print(train_features.shape)\n",
    "print(train_labels.shape)"
   ]
  },
  {
   "cell_type": "code",
   "execution_count": 16,
   "metadata": {},
   "outputs": [
    {
     "name": "stdout",
     "output_type": "stream",
     "text": [
      "[1.0 1.0 1.0 1.0 1.0 1.0 1.0 1.0 1.0 1.0 1.0 1.0 1.0 1.0 1.0 1.0 22.78\n",
      " 11.41 14.51 11.41]\n",
      "['age' 'sex' 'on_thyroxine' 'query_on_thyroxine'\n",
      " 'on_antithyroid_medication' 'sick' 'pregnant' 'thyroid_surgery'\n",
      " 'I131_treatment' 'query_hypothyroid' 'query_hyperthyroid' 'lithium'\n",
      " 'goitre' 'tumor' 'hypopituitary' 'psych' 'TSH' 'T3' 'TT4' 'T4U']\n"
     ]
    }
   ],
   "source": [
    "#load feature names \n",
    "costMatrix = pd.read_csv(os.path.join(cwd, 'thy_cost.txt'), sep=':', header=None)\n",
    "costMatrix.head()\n",
    "#featNames = np.append(featNames, '-')\n",
    "\n",
    "costVector = costMatrix.to_numpy()[:,1]\n",
    "print(costVector)\n",
    "featNames = costMatrix.to_numpy()[:,0]\n",
    "print(featNames)\n",
    "featNames = np.append(featNames,'pure')"
   ]
  },
  {
   "cell_type": "code",
   "execution_count": 28,
   "metadata": {},
   "outputs": [],
   "source": [
    "def gini(nodeLabels):\n",
    "    labels, counts = np.unique(nodeLabels, return_counts=True)\n",
    "    gini = 0\n",
    "    all_counts = np.sum(counts)\n",
    "    for i in range(len(labels)):\n",
    "        gini += (counts[i]/all_counts)**2 \n",
    "    gini_imp = (1 - gini)\n",
    "    return gini_imp   \n",
    "\n",
    "def entropy(nodeLabels):\n",
    "    labels, counts = np.unique(nodeLabels, return_counts=True)\n",
    "    entropy = 0\n",
    "    all_counts = np.sum(counts)\n",
    "    for i in range(len(labels)):\n",
    "        entropy -= (counts[i]/all_counts)*np.log2(counts[i]/all_counts)\n",
    "    return entropy   \n",
    "\n",
    "def calcImpurity(nodeLabels, impurity):\n",
    "    if(impurity == 'gini'):\n",
    "        return gini(nodeLabels)\n",
    "    elif(impurity == 'entropy'):\n",
    "        return entropy(nodeLabels)\n",
    "    else:\n",
    "        raise Exception(\"Invalid choice of Impurity: \" + impurity)\n",
    "        \n",
    "def calcSplitImpurity(feature, labels, val, impurity):\n",
    "    left_split = labels[feature <= val]\n",
    "    p_left = len(left_split)/len(labels)\n",
    "    right_split = labels[feature > val]\n",
    "    return p_left * calcImpurity(left_split, impurity) + (1-p_left) * calcImpurity(right_split, impurity)\n",
    "\n",
    "def gain(feature, labels, val):\n",
    "    entropy = calcImpurity(labels, 'entropy')\n",
    "    split_entropy = calcSplitImpurity(feature, labels, val, 'entropy')\n",
    "    return entropy - split_entropy\n",
    "\n",
    "# Expected in the form ('nunez', 'w', 'cost') or ('tan', 'cost')\n",
    "def costSensitiveSplit(feature, labels, val, choice):\n",
    "    infoGain = gain(feature, labels, val)\n",
    "    if choice[0] == 'nunez':\n",
    "        #print(infoGain, choice[2]+1, choice[1])\n",
    "        return (2**(infoGain-1)/((choice[2]+1)**choice[1]))**-1\n",
    "    elif choice[0] == 'tan':\n",
    "        return infoGain**2/choice[1]\n",
    "    else:\n",
    "        raise Exception(\"Invalid choice of Cost-Sensitive Split Criterion: \" + choice) \n",
    "\n",
    "def splittingCriterion(feature, labels, val, choice):\n",
    "    if len(choice) == 1:\n",
    "        return calcSplitImpurity(feature, labels, val, choice[0])\n",
    "    else: \n",
    "        return costSensitiveSplit(feature, labels, val, choice)\n",
    "        \n",
    "\n",
    "def bestSplitofFeature(feature, labels, choice):\n",
    "    bestSplitCrit = np.inf\n",
    "    threshold = np.inf\n",
    "    for val in feature:\n",
    "        splitCrit = splittingCriterion(feature, labels, val, choice)\n",
    "        if(splitCrit <= bestSplitCrit):\n",
    "            bestSplitCrit = splitCrit;\n",
    "            threshold = val\n",
    "            infGain = gain(feature, labels, val)\n",
    "    return bestSplitCrit, threshold, infGain\n",
    "\n",
    "def bestSplit(features, labels, choice, costVector):\n",
    "    featureIndex = 20\n",
    "    bestSplitCrit = np.inf\n",
    "    threshold = np.inf\n",
    "    best_gain = -1\n",
    "          \n",
    "    for i in range(features.shape[1]):\n",
    "        if len(costVector) > 0: \n",
    "            choice.append(costVector[i])\n",
    "        \n",
    "        feature_oi = features[:,i]\n",
    "        splitCrit, thr, gain = bestSplitofFeature(feature_oi, labels, choice)\n",
    "        if(splitCrit < bestSplitCrit):\n",
    "            bestSplitCrit = splitCrit\n",
    "            featureIndex = i\n",
    "            threshold = thr\n",
    "            best_gain = gain\n",
    "        \n",
    "        choice.pop()\n",
    "    \n",
    "    left_features = features[features[:,featureIndex] <= threshold]\n",
    "    left_labels = labels[features[:,featureIndex] <= threshold]\n",
    "    \n",
    "    right_features = features[features[:,featureIndex] > threshold]\n",
    "    right_labels = labels[features[:,featureIndex] > threshold]\n",
    "    \n",
    "    return threshold, featureIndex, best_gain, left_features, left_labels, right_features, right_labels\n",
    "\n",
    "class Node():\n",
    "    def __init__(self, features, labels, depth):\n",
    "        self.features = features\n",
    "        self.labels = labels \n",
    "        self.children = []\n",
    "        self.split = 0.5\n",
    "        self.split_index = 20\n",
    "        self.depth = depth\n",
    "        \n",
    "        self.isLeaf = False\n",
    "        \n",
    "    def isPure(self):\n",
    "        return np.min(self.labels) == np.max(self.labels)\n",
    "    \n",
    "    \n",
    "def createTree(node, choice, prun, costVector): \n",
    "    \n",
    "    if(node.isPure()):\n",
    "        node.isLeaf = True\n",
    "        return      \n",
    "    # prepruning for depth\n",
    "    elif(prun[0] == 'depth' and node.depth == prun[1]):\n",
    "        node.isLeaf = True\n",
    "        return\n",
    "    else:\n",
    "        split_val, split_feat_index, infGain, left_features, left_labels, right_features, right_labels = \\\n",
    "        bestSplit(node.features, node.labels, choice, costVector)\n",
    "        \n",
    "        print(featNames[split_feat_index])\n",
    "        \n",
    "        #prepruning for information gain\n",
    "        if(prun[0] == 'gain' and infGain <= prun[1]):\n",
    "            node.isLeaf = True\n",
    "            return\n",
    "        \n",
    "        node.split = split_val\n",
    "        node.split_index = split_feat_index\n",
    "                \n",
    "        left_child = Node(left_features, left_labels, node.depth+1)\n",
    "        right_child = Node(right_features, right_labels, node.depth+1)\n",
    "        node.children.append(left_child)\n",
    "        node.children.append(right_child)\n",
    "        createTree(left_child, choice, prun, costVector)\n",
    "        createTree(right_child, choice, prun, costVector)\n",
    "\n",
    "def trainClassifier(features, labels, choice=['gini'], prun=('depth',-1), costVector=[]):\n",
    "    if(choice[0] == 'tan' or choice[0] == 'nunez') and costVector == []:\n",
    "        costVector = [1] * features.shape[1]\n",
    "        \n",
    "    root = Node(train_features,train_labels, depth=0)\n",
    "    createTree(root, choice, prun, costVector)\n",
    "    return root"
   ]
  },
  {
   "cell_type": "code",
   "execution_count": 29,
   "metadata": {},
   "outputs": [
    {
     "name": "stdout",
     "output_type": "stream",
     "text": [
      "['3', 3, '5']\n"
     ]
    }
   ],
   "source": [
    "a = ['3', 3]\n",
    "a[1]\n",
    "a.append('5')\n",
    "print(a)"
   ]
  },
  {
   "cell_type": "code",
   "execution_count": 30,
   "metadata": {},
   "outputs": [
    {
     "name": "stderr",
     "output_type": "stream",
     "text": [
      "/Library/Frameworks/Python.framework/Versions/3.7/lib/python3.7/site-packages/ipykernel_launcher.py:140: DeprecationWarning: elementwise comparison failed; this will raise an error in the future.\n"
     ]
    },
    {
     "name": "stdout",
     "output_type": "stream",
     "text": [
      "TSH\n",
      "TSH\n",
      "TSH\n",
      "TSH\n",
      "TSH\n",
      "TSH\n"
     ]
    },
    {
     "ename": "KeyboardInterrupt",
     "evalue": "",
     "output_type": "error",
     "traceback": [
      "\u001b[0;31m---------------------------------------------------------------------------\u001b[0m",
      "\u001b[0;31mKeyboardInterrupt\u001b[0m                         Traceback (most recent call last)",
      "\u001b[0;32m<ipython-input-30-4d95a818178f>\u001b[0m in \u001b[0;36m<module>\u001b[0;34m\u001b[0m\n\u001b[0;32m----> 1\u001b[0;31m \u001b[0mtree\u001b[0m \u001b[0;34m=\u001b[0m \u001b[0mtrainClassifier\u001b[0m\u001b[0;34m(\u001b[0m\u001b[0mtrain_features\u001b[0m\u001b[0;34m,\u001b[0m \u001b[0mtrain_labels\u001b[0m\u001b[0;34m,\u001b[0m \u001b[0mchoice\u001b[0m\u001b[0;34m=\u001b[0m\u001b[0;34m[\u001b[0m\u001b[0;34m'nunez'\u001b[0m \u001b[0;34m,\u001b[0m\u001b[0;36m0.05\u001b[0m\u001b[0;34m]\u001b[0m\u001b[0;34m,\u001b[0m \u001b[0mprun\u001b[0m\u001b[0;34m=\u001b[0m\u001b[0;34m(\u001b[0m\u001b[0;34m'depth'\u001b[0m\u001b[0;34m,\u001b[0m\u001b[0;34m-\u001b[0m\u001b[0;36m1\u001b[0m\u001b[0;34m)\u001b[0m\u001b[0;34m,\u001b[0m \u001b[0mcostVector\u001b[0m\u001b[0;34m=\u001b[0m\u001b[0mcostVector\u001b[0m\u001b[0;34m)\u001b[0m\u001b[0;34m\u001b[0m\u001b[0;34m\u001b[0m\u001b[0m\n\u001b[0m",
      "\u001b[0;32m<ipython-input-28-b8b648172d31>\u001b[0m in \u001b[0;36mtrainClassifier\u001b[0;34m(features, labels, choice, prun, costVector)\u001b[0m\n\u001b[1;32m    142\u001b[0m \u001b[0;34m\u001b[0m\u001b[0m\n\u001b[1;32m    143\u001b[0m     \u001b[0mroot\u001b[0m \u001b[0;34m=\u001b[0m \u001b[0mNode\u001b[0m\u001b[0;34m(\u001b[0m\u001b[0mtrain_features\u001b[0m\u001b[0;34m,\u001b[0m\u001b[0mtrain_labels\u001b[0m\u001b[0;34m,\u001b[0m \u001b[0mdepth\u001b[0m\u001b[0;34m=\u001b[0m\u001b[0;36m0\u001b[0m\u001b[0;34m)\u001b[0m\u001b[0;34m\u001b[0m\u001b[0;34m\u001b[0m\u001b[0m\n\u001b[0;32m--> 144\u001b[0;31m     \u001b[0mcreateTree\u001b[0m\u001b[0;34m(\u001b[0m\u001b[0mroot\u001b[0m\u001b[0;34m,\u001b[0m \u001b[0mchoice\u001b[0m\u001b[0;34m,\u001b[0m \u001b[0mprun\u001b[0m\u001b[0;34m,\u001b[0m \u001b[0mcostVector\u001b[0m\u001b[0;34m)\u001b[0m\u001b[0;34m\u001b[0m\u001b[0;34m\u001b[0m\u001b[0m\n\u001b[0m\u001b[1;32m    145\u001b[0m     \u001b[0;32mreturn\u001b[0m \u001b[0mroot\u001b[0m\u001b[0;34m\u001b[0m\u001b[0;34m\u001b[0m\u001b[0m\n",
      "\u001b[0;32m<ipython-input-28-b8b648172d31>\u001b[0m in \u001b[0;36mcreateTree\u001b[0;34m(node, choice, prun, costVector)\u001b[0m\n\u001b[1;32m    134\u001b[0m         \u001b[0mnode\u001b[0m\u001b[0;34m.\u001b[0m\u001b[0mchildren\u001b[0m\u001b[0;34m.\u001b[0m\u001b[0mappend\u001b[0m\u001b[0;34m(\u001b[0m\u001b[0mleft_child\u001b[0m\u001b[0;34m)\u001b[0m\u001b[0;34m\u001b[0m\u001b[0;34m\u001b[0m\u001b[0m\n\u001b[1;32m    135\u001b[0m         \u001b[0mnode\u001b[0m\u001b[0;34m.\u001b[0m\u001b[0mchildren\u001b[0m\u001b[0;34m.\u001b[0m\u001b[0mappend\u001b[0m\u001b[0;34m(\u001b[0m\u001b[0mright_child\u001b[0m\u001b[0;34m)\u001b[0m\u001b[0;34m\u001b[0m\u001b[0;34m\u001b[0m\u001b[0m\n\u001b[0;32m--> 136\u001b[0;31m         \u001b[0mcreateTree\u001b[0m\u001b[0;34m(\u001b[0m\u001b[0mleft_child\u001b[0m\u001b[0;34m,\u001b[0m \u001b[0mchoice\u001b[0m\u001b[0;34m,\u001b[0m \u001b[0mprun\u001b[0m\u001b[0;34m,\u001b[0m \u001b[0mcostVector\u001b[0m\u001b[0;34m)\u001b[0m\u001b[0;34m\u001b[0m\u001b[0;34m\u001b[0m\u001b[0m\n\u001b[0m\u001b[1;32m    137\u001b[0m         \u001b[0mcreateTree\u001b[0m\u001b[0;34m(\u001b[0m\u001b[0mright_child\u001b[0m\u001b[0;34m,\u001b[0m \u001b[0mchoice\u001b[0m\u001b[0;34m,\u001b[0m \u001b[0mprun\u001b[0m\u001b[0;34m,\u001b[0m \u001b[0mcostVector\u001b[0m\u001b[0;34m)\u001b[0m\u001b[0;34m\u001b[0m\u001b[0;34m\u001b[0m\u001b[0m\n\u001b[1;32m    138\u001b[0m \u001b[0;34m\u001b[0m\u001b[0m\n",
      "\u001b[0;32m<ipython-input-28-b8b648172d31>\u001b[0m in \u001b[0;36mcreateTree\u001b[0;34m(node, choice, prun, costVector)\u001b[0m\n\u001b[1;32m    134\u001b[0m         \u001b[0mnode\u001b[0m\u001b[0;34m.\u001b[0m\u001b[0mchildren\u001b[0m\u001b[0;34m.\u001b[0m\u001b[0mappend\u001b[0m\u001b[0;34m(\u001b[0m\u001b[0mleft_child\u001b[0m\u001b[0;34m)\u001b[0m\u001b[0;34m\u001b[0m\u001b[0;34m\u001b[0m\u001b[0m\n\u001b[1;32m    135\u001b[0m         \u001b[0mnode\u001b[0m\u001b[0;34m.\u001b[0m\u001b[0mchildren\u001b[0m\u001b[0;34m.\u001b[0m\u001b[0mappend\u001b[0m\u001b[0;34m(\u001b[0m\u001b[0mright_child\u001b[0m\u001b[0;34m)\u001b[0m\u001b[0;34m\u001b[0m\u001b[0;34m\u001b[0m\u001b[0m\n\u001b[0;32m--> 136\u001b[0;31m         \u001b[0mcreateTree\u001b[0m\u001b[0;34m(\u001b[0m\u001b[0mleft_child\u001b[0m\u001b[0;34m,\u001b[0m \u001b[0mchoice\u001b[0m\u001b[0;34m,\u001b[0m \u001b[0mprun\u001b[0m\u001b[0;34m,\u001b[0m \u001b[0mcostVector\u001b[0m\u001b[0;34m)\u001b[0m\u001b[0;34m\u001b[0m\u001b[0;34m\u001b[0m\u001b[0m\n\u001b[0m\u001b[1;32m    137\u001b[0m         \u001b[0mcreateTree\u001b[0m\u001b[0;34m(\u001b[0m\u001b[0mright_child\u001b[0m\u001b[0;34m,\u001b[0m \u001b[0mchoice\u001b[0m\u001b[0;34m,\u001b[0m \u001b[0mprun\u001b[0m\u001b[0;34m,\u001b[0m \u001b[0mcostVector\u001b[0m\u001b[0;34m)\u001b[0m\u001b[0;34m\u001b[0m\u001b[0;34m\u001b[0m\u001b[0m\n\u001b[1;32m    138\u001b[0m \u001b[0;34m\u001b[0m\u001b[0m\n",
      "\u001b[0;32m<ipython-input-28-b8b648172d31>\u001b[0m in \u001b[0;36mcreateTree\u001b[0;34m(node, choice, prun, costVector)\u001b[0m\n\u001b[1;32m    134\u001b[0m         \u001b[0mnode\u001b[0m\u001b[0;34m.\u001b[0m\u001b[0mchildren\u001b[0m\u001b[0;34m.\u001b[0m\u001b[0mappend\u001b[0m\u001b[0;34m(\u001b[0m\u001b[0mleft_child\u001b[0m\u001b[0;34m)\u001b[0m\u001b[0;34m\u001b[0m\u001b[0;34m\u001b[0m\u001b[0m\n\u001b[1;32m    135\u001b[0m         \u001b[0mnode\u001b[0m\u001b[0;34m.\u001b[0m\u001b[0mchildren\u001b[0m\u001b[0;34m.\u001b[0m\u001b[0mappend\u001b[0m\u001b[0;34m(\u001b[0m\u001b[0mright_child\u001b[0m\u001b[0;34m)\u001b[0m\u001b[0;34m\u001b[0m\u001b[0;34m\u001b[0m\u001b[0m\n\u001b[0;32m--> 136\u001b[0;31m         \u001b[0mcreateTree\u001b[0m\u001b[0;34m(\u001b[0m\u001b[0mleft_child\u001b[0m\u001b[0;34m,\u001b[0m \u001b[0mchoice\u001b[0m\u001b[0;34m,\u001b[0m \u001b[0mprun\u001b[0m\u001b[0;34m,\u001b[0m \u001b[0mcostVector\u001b[0m\u001b[0;34m)\u001b[0m\u001b[0;34m\u001b[0m\u001b[0;34m\u001b[0m\u001b[0m\n\u001b[0m\u001b[1;32m    137\u001b[0m         \u001b[0mcreateTree\u001b[0m\u001b[0;34m(\u001b[0m\u001b[0mright_child\u001b[0m\u001b[0;34m,\u001b[0m \u001b[0mchoice\u001b[0m\u001b[0;34m,\u001b[0m \u001b[0mprun\u001b[0m\u001b[0;34m,\u001b[0m \u001b[0mcostVector\u001b[0m\u001b[0;34m)\u001b[0m\u001b[0;34m\u001b[0m\u001b[0;34m\u001b[0m\u001b[0m\n\u001b[1;32m    138\u001b[0m \u001b[0;34m\u001b[0m\u001b[0m\n",
      "\u001b[0;32m<ipython-input-28-b8b648172d31>\u001b[0m in \u001b[0;36mcreateTree\u001b[0;34m(node, choice, prun, costVector)\u001b[0m\n\u001b[1;32m    134\u001b[0m         \u001b[0mnode\u001b[0m\u001b[0;34m.\u001b[0m\u001b[0mchildren\u001b[0m\u001b[0;34m.\u001b[0m\u001b[0mappend\u001b[0m\u001b[0;34m(\u001b[0m\u001b[0mleft_child\u001b[0m\u001b[0;34m)\u001b[0m\u001b[0;34m\u001b[0m\u001b[0;34m\u001b[0m\u001b[0m\n\u001b[1;32m    135\u001b[0m         \u001b[0mnode\u001b[0m\u001b[0;34m.\u001b[0m\u001b[0mchildren\u001b[0m\u001b[0;34m.\u001b[0m\u001b[0mappend\u001b[0m\u001b[0;34m(\u001b[0m\u001b[0mright_child\u001b[0m\u001b[0;34m)\u001b[0m\u001b[0;34m\u001b[0m\u001b[0;34m\u001b[0m\u001b[0m\n\u001b[0;32m--> 136\u001b[0;31m         \u001b[0mcreateTree\u001b[0m\u001b[0;34m(\u001b[0m\u001b[0mleft_child\u001b[0m\u001b[0;34m,\u001b[0m \u001b[0mchoice\u001b[0m\u001b[0;34m,\u001b[0m \u001b[0mprun\u001b[0m\u001b[0;34m,\u001b[0m \u001b[0mcostVector\u001b[0m\u001b[0;34m)\u001b[0m\u001b[0;34m\u001b[0m\u001b[0;34m\u001b[0m\u001b[0m\n\u001b[0m\u001b[1;32m    137\u001b[0m         \u001b[0mcreateTree\u001b[0m\u001b[0;34m(\u001b[0m\u001b[0mright_child\u001b[0m\u001b[0;34m,\u001b[0m \u001b[0mchoice\u001b[0m\u001b[0;34m,\u001b[0m \u001b[0mprun\u001b[0m\u001b[0;34m,\u001b[0m \u001b[0mcostVector\u001b[0m\u001b[0;34m)\u001b[0m\u001b[0;34m\u001b[0m\u001b[0;34m\u001b[0m\u001b[0m\n\u001b[1;32m    138\u001b[0m \u001b[0;34m\u001b[0m\u001b[0m\n",
      "\u001b[0;32m<ipython-input-28-b8b648172d31>\u001b[0m in \u001b[0;36mcreateTree\u001b[0;34m(node, choice, prun, costVector)\u001b[0m\n\u001b[1;32m    134\u001b[0m         \u001b[0mnode\u001b[0m\u001b[0;34m.\u001b[0m\u001b[0mchildren\u001b[0m\u001b[0;34m.\u001b[0m\u001b[0mappend\u001b[0m\u001b[0;34m(\u001b[0m\u001b[0mleft_child\u001b[0m\u001b[0;34m)\u001b[0m\u001b[0;34m\u001b[0m\u001b[0;34m\u001b[0m\u001b[0m\n\u001b[1;32m    135\u001b[0m         \u001b[0mnode\u001b[0m\u001b[0;34m.\u001b[0m\u001b[0mchildren\u001b[0m\u001b[0;34m.\u001b[0m\u001b[0mappend\u001b[0m\u001b[0;34m(\u001b[0m\u001b[0mright_child\u001b[0m\u001b[0;34m)\u001b[0m\u001b[0;34m\u001b[0m\u001b[0;34m\u001b[0m\u001b[0m\n\u001b[0;32m--> 136\u001b[0;31m         \u001b[0mcreateTree\u001b[0m\u001b[0;34m(\u001b[0m\u001b[0mleft_child\u001b[0m\u001b[0;34m,\u001b[0m \u001b[0mchoice\u001b[0m\u001b[0;34m,\u001b[0m \u001b[0mprun\u001b[0m\u001b[0;34m,\u001b[0m \u001b[0mcostVector\u001b[0m\u001b[0;34m)\u001b[0m\u001b[0;34m\u001b[0m\u001b[0;34m\u001b[0m\u001b[0m\n\u001b[0m\u001b[1;32m    137\u001b[0m         \u001b[0mcreateTree\u001b[0m\u001b[0;34m(\u001b[0m\u001b[0mright_child\u001b[0m\u001b[0;34m,\u001b[0m \u001b[0mchoice\u001b[0m\u001b[0;34m,\u001b[0m \u001b[0mprun\u001b[0m\u001b[0;34m,\u001b[0m \u001b[0mcostVector\u001b[0m\u001b[0;34m)\u001b[0m\u001b[0;34m\u001b[0m\u001b[0;34m\u001b[0m\u001b[0m\n\u001b[1;32m    138\u001b[0m \u001b[0;34m\u001b[0m\u001b[0m\n",
      "\u001b[0;32m<ipython-input-28-b8b648172d31>\u001b[0m in \u001b[0;36mcreateTree\u001b[0;34m(node, choice, prun, costVector)\u001b[0m\n\u001b[1;32m    134\u001b[0m         \u001b[0mnode\u001b[0m\u001b[0;34m.\u001b[0m\u001b[0mchildren\u001b[0m\u001b[0;34m.\u001b[0m\u001b[0mappend\u001b[0m\u001b[0;34m(\u001b[0m\u001b[0mleft_child\u001b[0m\u001b[0;34m)\u001b[0m\u001b[0;34m\u001b[0m\u001b[0;34m\u001b[0m\u001b[0m\n\u001b[1;32m    135\u001b[0m         \u001b[0mnode\u001b[0m\u001b[0;34m.\u001b[0m\u001b[0mchildren\u001b[0m\u001b[0;34m.\u001b[0m\u001b[0mappend\u001b[0m\u001b[0;34m(\u001b[0m\u001b[0mright_child\u001b[0m\u001b[0;34m)\u001b[0m\u001b[0;34m\u001b[0m\u001b[0;34m\u001b[0m\u001b[0m\n\u001b[0;32m--> 136\u001b[0;31m         \u001b[0mcreateTree\u001b[0m\u001b[0;34m(\u001b[0m\u001b[0mleft_child\u001b[0m\u001b[0;34m,\u001b[0m \u001b[0mchoice\u001b[0m\u001b[0;34m,\u001b[0m \u001b[0mprun\u001b[0m\u001b[0;34m,\u001b[0m \u001b[0mcostVector\u001b[0m\u001b[0;34m)\u001b[0m\u001b[0;34m\u001b[0m\u001b[0;34m\u001b[0m\u001b[0m\n\u001b[0m\u001b[1;32m    137\u001b[0m         \u001b[0mcreateTree\u001b[0m\u001b[0;34m(\u001b[0m\u001b[0mright_child\u001b[0m\u001b[0;34m,\u001b[0m \u001b[0mchoice\u001b[0m\u001b[0;34m,\u001b[0m \u001b[0mprun\u001b[0m\u001b[0;34m,\u001b[0m \u001b[0mcostVector\u001b[0m\u001b[0;34m)\u001b[0m\u001b[0;34m\u001b[0m\u001b[0;34m\u001b[0m\u001b[0m\n\u001b[1;32m    138\u001b[0m \u001b[0;34m\u001b[0m\u001b[0m\n",
      "\u001b[0;32m<ipython-input-28-b8b648172d31>\u001b[0m in \u001b[0;36mcreateTree\u001b[0;34m(node, choice, prun, costVector)\u001b[0m\n\u001b[1;32m    118\u001b[0m     \u001b[0;32melse\u001b[0m\u001b[0;34m:\u001b[0m\u001b[0;34m\u001b[0m\u001b[0;34m\u001b[0m\u001b[0m\n\u001b[1;32m    119\u001b[0m         \u001b[0msplit_val\u001b[0m\u001b[0;34m,\u001b[0m \u001b[0msplit_feat_index\u001b[0m\u001b[0;34m,\u001b[0m \u001b[0minfGain\u001b[0m\u001b[0;34m,\u001b[0m \u001b[0mleft_features\u001b[0m\u001b[0;34m,\u001b[0m \u001b[0mleft_labels\u001b[0m\u001b[0;34m,\u001b[0m \u001b[0mright_features\u001b[0m\u001b[0;34m,\u001b[0m \u001b[0mright_labels\u001b[0m \u001b[0;34m=\u001b[0m\u001b[0;31m \u001b[0m\u001b[0;31m\\\u001b[0m\u001b[0;34m\u001b[0m\u001b[0;34m\u001b[0m\u001b[0m\n\u001b[0;32m--> 120\u001b[0;31m         \u001b[0mbestSplit\u001b[0m\u001b[0;34m(\u001b[0m\u001b[0mnode\u001b[0m\u001b[0;34m.\u001b[0m\u001b[0mfeatures\u001b[0m\u001b[0;34m,\u001b[0m \u001b[0mnode\u001b[0m\u001b[0;34m.\u001b[0m\u001b[0mlabels\u001b[0m\u001b[0;34m,\u001b[0m \u001b[0mchoice\u001b[0m\u001b[0;34m,\u001b[0m \u001b[0mcostVector\u001b[0m\u001b[0;34m)\u001b[0m\u001b[0;34m\u001b[0m\u001b[0;34m\u001b[0m\u001b[0m\n\u001b[0m\u001b[1;32m    121\u001b[0m \u001b[0;34m\u001b[0m\u001b[0m\n\u001b[1;32m    122\u001b[0m         \u001b[0mprint\u001b[0m\u001b[0;34m(\u001b[0m\u001b[0mfeatNames\u001b[0m\u001b[0;34m[\u001b[0m\u001b[0msplit_feat_index\u001b[0m\u001b[0;34m]\u001b[0m\u001b[0;34m)\u001b[0m\u001b[0;34m\u001b[0m\u001b[0;34m\u001b[0m\u001b[0m\n",
      "\u001b[0;32m<ipython-input-28-b8b648172d31>\u001b[0m in \u001b[0;36mbestSplit\u001b[0;34m(features, labels, choice, costVector)\u001b[0m\n\u001b[1;32m     75\u001b[0m \u001b[0;34m\u001b[0m\u001b[0m\n\u001b[1;32m     76\u001b[0m         \u001b[0mfeature_oi\u001b[0m \u001b[0;34m=\u001b[0m \u001b[0mfeatures\u001b[0m\u001b[0;34m[\u001b[0m\u001b[0;34m:\u001b[0m\u001b[0;34m,\u001b[0m\u001b[0mi\u001b[0m\u001b[0;34m]\u001b[0m\u001b[0;34m\u001b[0m\u001b[0;34m\u001b[0m\u001b[0m\n\u001b[0;32m---> 77\u001b[0;31m         \u001b[0msplitCrit\u001b[0m\u001b[0;34m,\u001b[0m \u001b[0mthr\u001b[0m\u001b[0;34m,\u001b[0m \u001b[0mgain\u001b[0m \u001b[0;34m=\u001b[0m \u001b[0mbestSplitofFeature\u001b[0m\u001b[0;34m(\u001b[0m\u001b[0mfeature_oi\u001b[0m\u001b[0;34m,\u001b[0m \u001b[0mlabels\u001b[0m\u001b[0;34m,\u001b[0m \u001b[0mchoice\u001b[0m\u001b[0;34m)\u001b[0m\u001b[0;34m\u001b[0m\u001b[0;34m\u001b[0m\u001b[0m\n\u001b[0m\u001b[1;32m     78\u001b[0m         \u001b[0;32mif\u001b[0m\u001b[0;34m(\u001b[0m\u001b[0msplitCrit\u001b[0m \u001b[0;34m<\u001b[0m \u001b[0mbestSplitCrit\u001b[0m\u001b[0;34m)\u001b[0m\u001b[0;34m:\u001b[0m\u001b[0;34m\u001b[0m\u001b[0;34m\u001b[0m\u001b[0m\n\u001b[1;32m     79\u001b[0m             \u001b[0mbestSplitCrit\u001b[0m \u001b[0;34m=\u001b[0m \u001b[0msplitCrit\u001b[0m\u001b[0;34m\u001b[0m\u001b[0;34m\u001b[0m\u001b[0m\n",
      "\u001b[0;32m<ipython-input-28-b8b648172d31>\u001b[0m in \u001b[0;36mbestSplitofFeature\u001b[0;34m(feature, labels, choice)\u001b[0m\n\u001b[1;32m     57\u001b[0m     \u001b[0mthreshold\u001b[0m \u001b[0;34m=\u001b[0m \u001b[0mnp\u001b[0m\u001b[0;34m.\u001b[0m\u001b[0minf\u001b[0m\u001b[0;34m\u001b[0m\u001b[0;34m\u001b[0m\u001b[0m\n\u001b[1;32m     58\u001b[0m     \u001b[0;32mfor\u001b[0m \u001b[0mval\u001b[0m \u001b[0;32min\u001b[0m \u001b[0mfeature\u001b[0m\u001b[0;34m:\u001b[0m\u001b[0;34m\u001b[0m\u001b[0;34m\u001b[0m\u001b[0m\n\u001b[0;32m---> 59\u001b[0;31m         \u001b[0msplitCrit\u001b[0m \u001b[0;34m=\u001b[0m \u001b[0msplittingCriterion\u001b[0m\u001b[0;34m(\u001b[0m\u001b[0mfeature\u001b[0m\u001b[0;34m,\u001b[0m \u001b[0mlabels\u001b[0m\u001b[0;34m,\u001b[0m \u001b[0mval\u001b[0m\u001b[0;34m,\u001b[0m \u001b[0mchoice\u001b[0m\u001b[0;34m)\u001b[0m\u001b[0;34m\u001b[0m\u001b[0;34m\u001b[0m\u001b[0m\n\u001b[0m\u001b[1;32m     60\u001b[0m         \u001b[0;32mif\u001b[0m\u001b[0;34m(\u001b[0m\u001b[0msplitCrit\u001b[0m \u001b[0;34m<=\u001b[0m \u001b[0mbestSplitCrit\u001b[0m\u001b[0;34m)\u001b[0m\u001b[0;34m:\u001b[0m\u001b[0;34m\u001b[0m\u001b[0;34m\u001b[0m\u001b[0m\n\u001b[1;32m     61\u001b[0m             \u001b[0mbestSplitCrit\u001b[0m \u001b[0;34m=\u001b[0m \u001b[0msplitCrit\u001b[0m\u001b[0;34m;\u001b[0m\u001b[0;34m\u001b[0m\u001b[0;34m\u001b[0m\u001b[0m\n",
      "\u001b[0;32m<ipython-input-28-b8b648172d31>\u001b[0m in \u001b[0;36msplittingCriterion\u001b[0;34m(feature, labels, val, choice)\u001b[0m\n\u001b[1;32m     50\u001b[0m         \u001b[0;32mreturn\u001b[0m \u001b[0mcalcSplitImpurity\u001b[0m\u001b[0;34m(\u001b[0m\u001b[0mfeature\u001b[0m\u001b[0;34m,\u001b[0m \u001b[0mlabels\u001b[0m\u001b[0;34m,\u001b[0m \u001b[0mval\u001b[0m\u001b[0;34m,\u001b[0m \u001b[0mchoice\u001b[0m\u001b[0;34m[\u001b[0m\u001b[0;36m0\u001b[0m\u001b[0;34m]\u001b[0m\u001b[0;34m)\u001b[0m\u001b[0;34m\u001b[0m\u001b[0;34m\u001b[0m\u001b[0m\n\u001b[1;32m     51\u001b[0m     \u001b[0;32melse\u001b[0m\u001b[0;34m:\u001b[0m\u001b[0;34m\u001b[0m\u001b[0;34m\u001b[0m\u001b[0m\n\u001b[0;32m---> 52\u001b[0;31m         \u001b[0;32mreturn\u001b[0m \u001b[0mcostSensitiveSplit\u001b[0m\u001b[0;34m(\u001b[0m\u001b[0mfeature\u001b[0m\u001b[0;34m,\u001b[0m \u001b[0mlabels\u001b[0m\u001b[0;34m,\u001b[0m \u001b[0mval\u001b[0m\u001b[0;34m,\u001b[0m \u001b[0mchoice\u001b[0m\u001b[0;34m)\u001b[0m\u001b[0;34m\u001b[0m\u001b[0;34m\u001b[0m\u001b[0m\n\u001b[0m\u001b[1;32m     53\u001b[0m \u001b[0;34m\u001b[0m\u001b[0m\n\u001b[1;32m     54\u001b[0m \u001b[0;34m\u001b[0m\u001b[0m\n",
      "\u001b[0;32m<ipython-input-28-b8b648172d31>\u001b[0m in \u001b[0;36mcostSensitiveSplit\u001b[0;34m(feature, labels, val, choice)\u001b[0m\n\u001b[1;32m     37\u001b[0m \u001b[0;31m# Expected in the form ('nunez', 'w', 'cost') or ('tan', 'cost')\u001b[0m\u001b[0;34m\u001b[0m\u001b[0;34m\u001b[0m\u001b[0;34m\u001b[0m\u001b[0m\n\u001b[1;32m     38\u001b[0m \u001b[0;32mdef\u001b[0m \u001b[0mcostSensitiveSplit\u001b[0m\u001b[0;34m(\u001b[0m\u001b[0mfeature\u001b[0m\u001b[0;34m,\u001b[0m \u001b[0mlabels\u001b[0m\u001b[0;34m,\u001b[0m \u001b[0mval\u001b[0m\u001b[0;34m,\u001b[0m \u001b[0mchoice\u001b[0m\u001b[0;34m)\u001b[0m\u001b[0;34m:\u001b[0m\u001b[0;34m\u001b[0m\u001b[0;34m\u001b[0m\u001b[0m\n\u001b[0;32m---> 39\u001b[0;31m     \u001b[0minfoGain\u001b[0m \u001b[0;34m=\u001b[0m \u001b[0mgain\u001b[0m\u001b[0;34m(\u001b[0m\u001b[0mfeature\u001b[0m\u001b[0;34m,\u001b[0m \u001b[0mlabels\u001b[0m\u001b[0;34m,\u001b[0m \u001b[0mval\u001b[0m\u001b[0;34m)\u001b[0m\u001b[0;34m\u001b[0m\u001b[0;34m\u001b[0m\u001b[0m\n\u001b[0m\u001b[1;32m     40\u001b[0m     \u001b[0;32mif\u001b[0m \u001b[0mchoice\u001b[0m\u001b[0;34m[\u001b[0m\u001b[0;36m0\u001b[0m\u001b[0;34m]\u001b[0m \u001b[0;34m==\u001b[0m \u001b[0;34m'nunez'\u001b[0m\u001b[0;34m:\u001b[0m\u001b[0;34m\u001b[0m\u001b[0;34m\u001b[0m\u001b[0m\n\u001b[1;32m     41\u001b[0m         \u001b[0;31m#print(infoGain, choice[2]+1, choice[1])\u001b[0m\u001b[0;34m\u001b[0m\u001b[0;34m\u001b[0m\u001b[0;34m\u001b[0m\u001b[0m\n",
      "\u001b[0;32m<ipython-input-28-b8b648172d31>\u001b[0m in \u001b[0;36mgain\u001b[0;34m(feature, labels, val)\u001b[0m\n\u001b[1;32m     32\u001b[0m \u001b[0;32mdef\u001b[0m \u001b[0mgain\u001b[0m\u001b[0;34m(\u001b[0m\u001b[0mfeature\u001b[0m\u001b[0;34m,\u001b[0m \u001b[0mlabels\u001b[0m\u001b[0;34m,\u001b[0m \u001b[0mval\u001b[0m\u001b[0;34m)\u001b[0m\u001b[0;34m:\u001b[0m\u001b[0;34m\u001b[0m\u001b[0;34m\u001b[0m\u001b[0m\n\u001b[1;32m     33\u001b[0m     \u001b[0mentropy\u001b[0m \u001b[0;34m=\u001b[0m \u001b[0mcalcImpurity\u001b[0m\u001b[0;34m(\u001b[0m\u001b[0mlabels\u001b[0m\u001b[0;34m,\u001b[0m \u001b[0;34m'entropy'\u001b[0m\u001b[0;34m)\u001b[0m\u001b[0;34m\u001b[0m\u001b[0;34m\u001b[0m\u001b[0m\n\u001b[0;32m---> 34\u001b[0;31m     \u001b[0msplit_entropy\u001b[0m \u001b[0;34m=\u001b[0m \u001b[0mcalcSplitImpurity\u001b[0m\u001b[0;34m(\u001b[0m\u001b[0mfeature\u001b[0m\u001b[0;34m,\u001b[0m \u001b[0mlabels\u001b[0m\u001b[0;34m,\u001b[0m \u001b[0mval\u001b[0m\u001b[0;34m,\u001b[0m \u001b[0;34m'entropy'\u001b[0m\u001b[0;34m)\u001b[0m\u001b[0;34m\u001b[0m\u001b[0;34m\u001b[0m\u001b[0m\n\u001b[0m\u001b[1;32m     35\u001b[0m     \u001b[0;32mreturn\u001b[0m \u001b[0mentropy\u001b[0m \u001b[0;34m-\u001b[0m \u001b[0msplit_entropy\u001b[0m\u001b[0;34m\u001b[0m\u001b[0;34m\u001b[0m\u001b[0m\n\u001b[1;32m     36\u001b[0m \u001b[0;34m\u001b[0m\u001b[0m\n",
      "\u001b[0;32m<ipython-input-28-b8b648172d31>\u001b[0m in \u001b[0;36mcalcSplitImpurity\u001b[0;34m(feature, labels, val, impurity)\u001b[0m\n\u001b[1;32m     25\u001b[0m \u001b[0;34m\u001b[0m\u001b[0m\n\u001b[1;32m     26\u001b[0m \u001b[0;32mdef\u001b[0m \u001b[0mcalcSplitImpurity\u001b[0m\u001b[0;34m(\u001b[0m\u001b[0mfeature\u001b[0m\u001b[0;34m,\u001b[0m \u001b[0mlabels\u001b[0m\u001b[0;34m,\u001b[0m \u001b[0mval\u001b[0m\u001b[0;34m,\u001b[0m \u001b[0mimpurity\u001b[0m\u001b[0;34m)\u001b[0m\u001b[0;34m:\u001b[0m\u001b[0;34m\u001b[0m\u001b[0;34m\u001b[0m\u001b[0m\n\u001b[0;32m---> 27\u001b[0;31m     \u001b[0mleft_split\u001b[0m \u001b[0;34m=\u001b[0m \u001b[0mlabels\u001b[0m\u001b[0;34m[\u001b[0m\u001b[0mfeature\u001b[0m \u001b[0;34m<=\u001b[0m \u001b[0mval\u001b[0m\u001b[0;34m]\u001b[0m\u001b[0;34m\u001b[0m\u001b[0;34m\u001b[0m\u001b[0m\n\u001b[0m\u001b[1;32m     28\u001b[0m     \u001b[0mp_left\u001b[0m \u001b[0;34m=\u001b[0m \u001b[0mlen\u001b[0m\u001b[0;34m(\u001b[0m\u001b[0mleft_split\u001b[0m\u001b[0;34m)\u001b[0m\u001b[0;34m/\u001b[0m\u001b[0mlen\u001b[0m\u001b[0;34m(\u001b[0m\u001b[0mlabels\u001b[0m\u001b[0;34m)\u001b[0m\u001b[0;34m\u001b[0m\u001b[0;34m\u001b[0m\u001b[0m\n\u001b[1;32m     29\u001b[0m     \u001b[0mright_split\u001b[0m \u001b[0;34m=\u001b[0m \u001b[0mlabels\u001b[0m\u001b[0;34m[\u001b[0m\u001b[0mfeature\u001b[0m \u001b[0;34m>\u001b[0m \u001b[0mval\u001b[0m\u001b[0;34m]\u001b[0m\u001b[0;34m\u001b[0m\u001b[0;34m\u001b[0m\u001b[0m\n",
      "\u001b[0;31mKeyboardInterrupt\u001b[0m: "
     ]
    }
   ],
   "source": [
    "tree = trainClassifier(train_features, train_labels, choice=['nunez' ,0.05], prun=('depth',-1), costVector=costVector)"
   ]
  },
  {
   "cell_type": "code",
   "execution_count": null,
   "metadata": {},
   "outputs": [],
   "source": [
    "def formatNode(node, names):\n",
    "    lbs, cts = np.unique(node.labels, return_counts=True)\n",
    "    countTemp = '['\n",
    "    for lb,ct in zip(lbs,cts):\n",
    "        countTemp += str(int(lb)) + ':' + str(ct) + ', '\n",
    "    countTemp = countTemp[:-2] + ']'\n",
    "    temp = names[node.split_index] + '\\n' + countTemp    \n",
    "    return temp\n",
    "\n",
    "def traverse(root,names):\n",
    "    current_level = [root]\n",
    "    while current_level:\n",
    "        temp = ''\n",
    "        i=0\n",
    "        for node in current_level:\n",
    "            i += 1\n",
    "            lbs, cts = np.unique(node.labels, return_counts=True)\n",
    "            temp += formatNode(node,names)\n",
    "            if(i%2==0):\n",
    "                temp += '    '\n",
    "        print(temp)\n",
    "        next_level = list()\n",
    "        for n in current_level:\n",
    "            if not n.isLeaf:\n",
    "                next_level.append(n.children[0])\n",
    "                next_level.append(n.children[1])\n",
    "                \n",
    "        current_level = next_level\n",
    "traverse(tree, featNames)\n",
    "\n"
   ]
  },
  {
   "cell_type": "code",
   "execution_count": 18,
   "metadata": {},
   "outputs": [],
   "source": [
    "def predict(node, inp):\n",
    "    if(node.isLeaf):\n",
    "        lbs, cts = np.unique(node.labels, return_counts=True)\n",
    "        return lbs[np.argmax(cts)]\n",
    "    else:\n",
    "        if(inp[node.split_index] <= node.split):\n",
    "            pred = predict(node.children[0], inp)\n",
    "        else:\n",
    "            pred = predict(node.children[1], inp)\n",
    "        return pred\n",
    "def pred_samples(root, inp):\n",
    "    res = []\n",
    "    for i in range(inp.shape[0]):\n",
    "        res.append(predict(root, inp[i,:]))\n",
    "    return np.asarray(res)"
   ]
  },
  {
   "cell_type": "code",
   "execution_count": 19,
   "metadata": {},
   "outputs": [
    {
     "name": "stdout",
     "output_type": "stream",
     "text": [
      "Training Accuracy: 100.000%\n",
      "Class-Based Accuracies:\n",
      "Accuracy of Class 1: 100.000%\n",
      "Accuracy of Class 2: 100.000%\n",
      "Accuracy of Class 3: 100.000%\n"
     ]
    },
    {
     "data": {
      "image/png": "[encoded data removed]",
      "text/plain": [
       "<Figure size 432x288 with 2 Axes>"
      ]
     },
     "metadata": {
      "needs_background": "light"
     },
     "output_type": "display_data"
    },
    {
     "name": "stdout",
     "output_type": "stream",
     "text": [
      "Test Accuracy: 98.716%\n",
      "Class-Based Accuracies:\n",
      "Accuracy of Class 1: 76.056%\n",
      "Accuracy of Class 2: 90.909%\n",
      "Accuracy of Class 3: 99.685%\n"
     ]
    },
    {
     "data": {
      "image/png": "[encoded data removed]",
      "text/plain": [
       "<Figure size 432x288 with 2 Axes>"
      ]
     },
     "metadata": {
      "needs_background": "light"
     },
     "output_type": "display_data"
    }
   ],
   "source": [
    "def traintestresults(root, train_features, train_labels, test_features, test_labels):\n",
    "    #TRAINING ACCURACIES\n",
    "    train_pred = pred_samples(root, train_features)\n",
    "    #print(train_pred.shape, train_pred.min(), train_pred.max())\n",
    "    print('Training Accuracy: %.3f%%' % (np.sum(train_pred==train_labels)\n",
    "          /train_pred.shape[0]*100))\n",
    "    numSamples = np.zeros(3)\n",
    "    truePreds =  np.zeros(3)\n",
    "    for sample, result in zip(train_labels, train_pred):\n",
    "        numSamples[int(result)-1] += 1\n",
    "        if(sample == result):\n",
    "            truePreds[int(result)-1] += 1\n",
    "    classAccs = truePreds/numSamples*100\n",
    "    print('Class-Based Accuracies:')\n",
    "    for i in range(3):\n",
    "        print('Accuracy of Class %d: %.3f%%' % (i+1,classAccs[i]))\n",
    "    cm = confusion_matrix(train_labels, train_pred, labels=[1,2,3])\n",
    "    cm_display = ConfusionMatrixDisplay(cm, display_labels=[1,2,3]).plot()\n",
    "    plt.title('Confusion Matrix for Training Data')\n",
    "    plt.show()\n",
    "    \n",
    "    #TEST ACCURACIES\n",
    "    test_pred = pred_samples(root, test_features)\n",
    "    #print(test_pred.shape, test_pred.min(), test_pred.max())\n",
    "    print('Test Accuracy: %.3f%%' % (np.sum(test_pred==test_labels)\n",
    "          /test_pred.shape[0]*100))\n",
    "    numSamples = np.zeros(3)\n",
    "    truePreds =  np.zeros(3)\n",
    "    for sample, result in zip(test_labels, test_pred):\n",
    "        numSamples[int(result)-1] += 1\n",
    "        if(sample == result):\n",
    "            truePreds[int(result)-1] += 1\n",
    "    classAccs = truePreds/numSamples*100\n",
    "    print('Class-Based Accuracies:')\n",
    "    for i in range(3):\n",
    "        print('Accuracy of Class %d: %.3f%%' % (i+1,classAccs[i]))\n",
    "        \n",
    "    cm = confusion_matrix(test_labels, test_pred, labels=[1,2,3])\n",
    "    cm_display = ConfusionMatrixDisplay(cm, display_labels=[1,2,3]).plot()\n",
    "    plt.title('Confusion Matrix for Test Data')\n",
    "    plt.show()\n",
    "traintestresults(tree, train_features, train_labels, test_features, test_labels)"
   ]
  },
  {
   "cell_type": "code",
   "execution_count": null,
   "metadata": {},
   "outputs": [],
   "source": []
  }
 ],
 "metadata": {
  "kernelspec": {
   "display_name": "Python 3.7.7 64-bit",
   "language": "python",
   "name": "python37764bitd3d6c13e347747d4b75cdea4c808ae91"
  },
  "language_info": {
   "codemirror_mode": {
    "name": "ipython",
    "version": 3
   },
   "file_extension": ".py",
   "mimetype": "text/x-python",
   "name": "python",
   "nbconvert_exporter": "python",
   "pygments_lexer": "ipython3",
   "version": "3.7.7"
  }
 },
 "nbformat": 4,
 "nbformat_minor": 4
}
