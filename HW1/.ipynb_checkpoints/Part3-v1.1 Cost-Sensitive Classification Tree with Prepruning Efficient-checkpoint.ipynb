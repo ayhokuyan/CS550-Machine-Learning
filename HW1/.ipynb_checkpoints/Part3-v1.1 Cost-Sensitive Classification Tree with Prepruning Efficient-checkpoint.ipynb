{
 "cells": [
  {
   "cell_type": "code",
   "execution_count": 1,
   "metadata": {},
   "outputs": [],
   "source": [
    "import numpy as np\n",
    "import pandas as pd\n",
    "import os\n",
    "import matplotlib.pyplot as plt\n",
    "from sklearn.metrics import ConfusionMatrixDisplay\n",
    "from sklearn.metrics import confusion_matrix\n",
    "from graphviz import Digraph"
   ]
  },
  {
   "cell_type": "code",
   "execution_count": 2,
   "metadata": {},
   "outputs": [
    {
     "name": "stdout",
     "output_type": "stream",
     "text": [
      "(3772, 22)\n",
      "(3428, 22)\n",
      "(3772, 21)\n",
      "(3772,)\n"
     ]
    }
   ],
   "source": [
    "#load train_data\n",
    "#set current working directory\n",
    "cwd = os.getcwd()\n",
    "#load train data as csv\n",
    "train_data = pd.read_csv(os.path.join(cwd, 'train_data.txt'), sep=' ', header=None)\n",
    "train_data.reset_index(drop=True, inplace=True)\n",
    "train_data = train_data.to_numpy()[:,:-2]\n",
    "\n",
    "#load test data as csv\n",
    "test_data = pd.read_csv(os.path.join(cwd, 'test_data.txt'), sep=' ', header=None)\n",
    "test_data.reset_index(drop=True, inplace=True)\n",
    "test_data = test_data.to_numpy()[:,:-2]\n",
    "\n",
    "#convert to features and labels\n",
    "print(train_data.shape)\n",
    "print(test_data.shape)\n",
    "\n",
    "numFeatures = train_data.shape[1]\n",
    "train_features = train_data[:,:numFeatures-1]\n",
    "train_labels = train_data[:,numFeatures-1]\n",
    "test_features = test_data[:,:numFeatures-1]\n",
    "test_labels = test_data[:,numFeatures-1]\n",
    "\n",
    "print(train_features.shape)\n",
    "print(train_labels.shape)"
   ]
  },
  {
   "cell_type": "code",
   "execution_count": 3,
   "metadata": {},
   "outputs": [
    {
     "name": "stdout",
     "output_type": "stream",
     "text": [
      "[1.0, 1.0, 1.0, 1.0, 1.0, 1.0, 1.0, 1.0, 1.0, 1.0, 1.0, 1.0, 1.0, 1.0, 1.0, 1.0, 22.78, 11.41, 14.51, 11.41]\n",
      "['age' 'sex' 'on_thyroxine' 'query_on_thyroxine'\n",
      " 'on_antithyroid_medication' 'sick' 'pregnant' 'thyroid_surgery'\n",
      " 'I131_treatment' 'query_hypothyroid' 'query_hyperthyroid' 'lithium'\n",
      " 'goitre' 'tumor' 'hypopituitary' 'psych' 'TSH' 'T3' 'TT4' 'T4U'\n",
      " 'extracted']\n"
     ]
    }
   ],
   "source": [
    "#load feature names \n",
    "costMatrix = pd.read_csv(os.path.join(cwd, 'thy_cost.txt'), sep=':', header=None)\n",
    "costMatrix.head()\n",
    "#featNames = np.append(featNames, '-')\n",
    "\n",
    "costVector = list(costMatrix.to_numpy()[:,1])\n",
    "print(costVector)\n",
    "featNames = costMatrix.to_numpy()[:,0]\n",
    "featNames = np.append(featNames, 'extracted')\n",
    "print(featNames)\n",
    "featNames = np.append(featNames,'pure')"
   ]
  },
  {
   "cell_type": "code",
   "execution_count": 4,
   "metadata": {},
   "outputs": [
    {
     "name": "stdout",
     "output_type": "stream",
     "text": [
      "[1.0, 1.0, 1.0, 1.0, 1.0, 1.0, 1.0, 1.0, 1.0, 1.0, 1.0, 1.0, 1.0, 1.0, 1.0, 1.0, 22.78, 11.41, 14.51, 11.41, [18, 19]]\n"
     ]
    }
   ],
   "source": [
    "# redesign cost vector such that the last element (extracted) holds the indices of the extracted features\n",
    "costVector.append([18,19])\n",
    "print(costVector)"
   ]
  },
  {
   "cell_type": "code",
   "execution_count": 5,
   "metadata": {},
   "outputs": [],
   "source": [
    "def gini(nodeLabels):\n",
    "    labels, counts = np.unique(nodeLabels, return_counts=True)\n",
    "    gini = 0\n",
    "    all_counts = np.sum(counts)\n",
    "    for i in range(len(labels)):\n",
    "        gini += (counts[i]/all_counts)**2 \n",
    "    gini_imp = (1 - gini)\n",
    "    return gini_imp   \n",
    "\n",
    "def entropy(nodeLabels):\n",
    "    labels, counts = np.unique(nodeLabels, return_counts=True)\n",
    "    entropy = 0\n",
    "    all_counts = np.sum(counts)\n",
    "    for i in range(len(labels)):\n",
    "        entropy -= (counts[i]/all_counts)*np.log2(counts[i]/all_counts)\n",
    "    return entropy   \n",
    "\n",
    "def calcImpurity(nodeLabels, impurity):\n",
    "    if(impurity == 'gini'):\n",
    "        return gini(nodeLabels)\n",
    "    elif(impurity == 'entropy'):\n",
    "        return entropy(nodeLabels)\n",
    "    else:\n",
    "        raise Exception(\"Invalid choice of Impurity: \" + impurity[0])\n",
    "        \n",
    "def calcSplitImpurity(feature, labels, val, impurity):\n",
    "    left_split = labels[feature <= val]\n",
    "    p_left = len(left_split)/len(labels)\n",
    "    right_split = labels[feature > val]\n",
    "    return p_left * calcImpurity(left_split, impurity) + (1-p_left) * calcImpurity(right_split, impurity)\n",
    "\n",
    "def calcInfoGain(feature, labels, val):\n",
    "    entropy = calcImpurity(labels, 'entropy')\n",
    "    split_entropy = calcSplitImpurity(feature, labels, val, 'entropy')\n",
    "    return entropy - split_entropy\n",
    "\n",
    "# Expected in the form ['nunez', 'w', 'cost'] or ['tan', 'cost']\n",
    "# Since we take the minimum of criterion, we take the negative of the criterion described in slides\n",
    "def costSensitiveSplit(feature, labels, val, choice):\n",
    "    infoGain = calcInfoGain(feature, labels, val)\n",
    "    if choice[0] == 'nunez':\n",
    "        return -(2**(infoGain-1))/((choice[2]+1)**choice[1])\n",
    "    elif choice[0] == 'tan':\n",
    "        return -infoGain**2/choice[1]\n",
    "    else:\n",
    "        raise Exception(\"Invalid choice of Cost-Sensitive Split Criterion: \" + str(choice)) \n",
    "\n",
    "def isPaid(node, indices):\n",
    "    paidCost = [1] * len(indices)\n",
    "    temp = node\n",
    "    \n",
    "    while temp.parent is not None:\n",
    "        if(temp.split_index in indices):\n",
    "            paidCost[indices.index(temp.split_index)] = 0\n",
    "        temp = temp.parent\n",
    "    if(temp.split_index in indices):\n",
    "        paidCost[indices.index(temp.split_index)] = 0\n",
    "    return paidCost\n",
    "\n",
    "def calcExtractedCost(node, indices, costVector):\n",
    "    costMultiplier = np.asarray(isPaid(node, indices))\n",
    "    cost = np.sum(costMultiplier * [costVector[i] for i in indices])\n",
    "    return cost\n",
    "\n",
    "def alterCostVector(node, costVector):\n",
    "    alteredCosts = list.copy(costVector)\n",
    "    for i,costElement in enumerate(costVector):\n",
    "        if type(costElement) is list:\n",
    "            cost = calcExtractedCost(node, costElement, costVector)\n",
    "            alteredCosts[i] = cost\n",
    "    return alteredCosts\n",
    "\n",
    "def splittingCriterion(feature, labels, val, choice):\n",
    "    if len(choice) == 1:\n",
    "        return calcSplitImpurity(feature, labels, val, choice[0])\n",
    "    else: \n",
    "        return costSensitiveSplit(feature, labels, val, choice)\n",
    "        \n",
    "\n",
    "def bestSplitofFeature(feature, labels, choice):\n",
    "    bestSplitCrit = np.inf\n",
    "    threshold = np.inf\n",
    "    infGain = -1\n",
    "    for val in feature:\n",
    "        splitCrit = splittingCriterion(feature, labels, val, choice)\n",
    "        if(splitCrit <= bestSplitCrit):\n",
    "            bestSplitCrit = splitCrit;\n",
    "            threshold = val\n",
    "            infGain = calcInfoGain(feature, labels, val)\n",
    "    return bestSplitCrit, threshold, infGain\n",
    "\n",
    "def bestSplit(features, labels, choice, costVector):\n",
    "    featureIndex = 21\n",
    "    bestSplitCrit = np.inf\n",
    "    threshold = np.inf\n",
    "    best_gain = -1\n",
    "\n",
    "    for i in range(features.shape[1]):\n",
    "        \n",
    "        feature_oi = features[:,i]\n",
    "        \n",
    "        if len(costVector) > 0: \n",
    "            choiceTemp = list.copy(choice)\n",
    "            choiceTemp.append(costVector[i])\n",
    "            splitCrit, thr, gain = bestSplitofFeature(feature_oi, labels, choiceTemp)\n",
    "        else:\n",
    "            splitCrit, thr, gain = bestSplitofFeature(feature_oi, labels, choice)\n",
    "        \n",
    "        \n",
    "        if(splitCrit <= bestSplitCrit):\n",
    "            bestSplitCrit = splitCrit\n",
    "            featureIndex = i\n",
    "            threshold = thr\n",
    "            best_gain = gain\n",
    "        \n",
    "\n",
    "    \n",
    "    left_features = features[features[:,featureIndex] <= threshold]\n",
    "    left_labels = labels[features[:,featureIndex] <= threshold]\n",
    "    \n",
    "    right_features = features[features[:,featureIndex] > threshold]\n",
    "    right_labels = labels[features[:,featureIndex] > threshold]\n",
    "    \n",
    "    return threshold, featureIndex, best_gain, left_features, left_labels, right_features, right_labels\n",
    "\n",
    "class Node():\n",
    "    def __init__(self, depth, parent):\n",
    "        self.leaf_label = -1\n",
    "        self.parent = parent\n",
    "        self.children = []\n",
    "        self.split = 0.5\n",
    "        self.split_index = 20\n",
    "        self.depth = depth   \n",
    "        # for plottling, each node is given an id\n",
    "        self.id = 0\n",
    "    \n",
    "def createTree(node, features, labels, choice, prun, costVector): \n",
    "    # is pure\n",
    "    if(np.min(labels) == np.max(labels)):\n",
    "        lbs, cts = np.unique(labels, return_counts=True)\n",
    "        node.leaf_label = lbs[np.argmax(cts)]\n",
    "        return      \n",
    "    # prepruning for depth\n",
    "    elif(prun[0] == 'depth' and node.depth == prun[1]):\n",
    "        lbs, cts = np.unique(labels, return_counts=True)\n",
    "        node.leaf_label = lbs[np.argmax(cts)]\n",
    "        return\n",
    "    else:\n",
    "        \n",
    "        if(len(costVector) > 0):\n",
    "            alteredCostVector = alterCostVector(node, costVector)\n",
    "            split_val, split_feat_index, infGain, left_features, left_labels, right_features, right_labels = \\\n",
    "            bestSplit(features, labels, choice, alteredCostVector)\n",
    "        else:\n",
    "            split_val, split_feat_index, infGain, left_features, left_labels, right_features, right_labels = \\\n",
    "            bestSplit(features, labels, choice, costVector)\n",
    "        \n",
    "        #print(featNames[split_feat_index])\n",
    "        \n",
    "        #prepruning for information gain\n",
    "        if(prun[0] == 'gain' and infGain <= prun[1]):\n",
    "            lbs, cts = np.unique(labels, return_counts=True)\n",
    "            node.leaf_label = lbs[np.argmax(cts)]\n",
    "            return\n",
    "        \n",
    "        node.split = split_val\n",
    "        node.split_index = split_feat_index\n",
    "                \n",
    "        left_child = Node(node.depth+1, node)\n",
    "        right_child = Node(node.depth+1, node)\n",
    "        node.children.append(left_child)\n",
    "        node.children.append(right_child)\n",
    "        createTree(left_child, left_features, left_labels, choice, prun, costVector)\n",
    "        createTree(right_child, right_features, right_labels, choice, prun, costVector)\n",
    "\n",
    "def trainClassifier(features, labels, choice=['gini'], prun=['none'], costVector=[]):\n",
    "    if(choice[0] == 'tan' or choice[0] == 'nunez') and not costVector:\n",
    "        costVector = [1] * features.shape[1]\n",
    "    elif(choice[0] == 'gini' or choice[0] == 'entropy') and costVector != []:\n",
    "        costVector = []\n",
    "        \n",
    "    root = Node(0, None)\n",
    "    createTree(root, features, labels, choice, prun, costVector)\n",
    "    return root\n",
    "\n",
    "def predictSample(node, inp):\n",
    "    if(node.leaf_label != -1):\n",
    "        return node.leaf_label\n",
    "    else:\n",
    "        if(inp[node.split_index] <= node.split):\n",
    "            pred = predictSample(node.children[0], inp)\n",
    "        else:\n",
    "            pred = predictSample(node.children[1], inp)\n",
    "        return pred\n",
    "    \n",
    "def predict(root, inp):\n",
    "    res = []\n",
    "    for i in range(inp.shape[0]):\n",
    "        res.append(predictSample(root, inp[i,:]))\n",
    "    return np.asarray(res)"
   ]
  },
  {
   "cell_type": "markdown",
   "metadata": {},
   "source": [
    "choice: [gini], [entropy], [tan]w/CostVector, [nunez,w]w/CostVector"
   ]
  },
  {
   "cell_type": "code",
   "execution_count": null,
   "metadata": {},
   "outputs": [],
   "source": [
    "tree = trainClassifier(train_features, train_labels, choice=['gini'], prun=['none'], costVector=costVector)"
   ]
  },
  {
   "cell_type": "code",
   "execution_count": null,
   "metadata": {},
   "outputs": [],
   "source": [
    "\n",
    "\n",
    "                \n",
    "\n",
    "def plotTree(tree, names):\n",
    "    univ_id = 0\n",
    "    g = Digraph(name = 'tree', filename = 'tree.gv', format='jpg')\n",
    "    \n",
    "    current_level = [tree]\n",
    "    while current_level:\n",
    "\n",
    "        for node in current_level:\n",
    "            univ_id += 1\n",
    "            node.id = univ_id \n",
    "            if node.parent != None:\n",
    "                g.edge(\"node_\" + str(node.parent.id), \"node_\" + str(node.id))\n",
    "        \n",
    "        next_level = list()\n",
    "        for n in current_level:\n",
    "            if n.leaf_label == -1:\n",
    "                next_level.append(n.children[0])\n",
    "                next_level.append(n.children[1])\n",
    "        current_level = next_level\n",
    "    return g\n",
    "plot = plotTree(tree, featNames)\n",
    "plot"
   ]
  },
  {
   "cell_type": "code",
   "execution_count": 66,
   "metadata": {},
   "outputs": [
    {
     "name": "stdout",
     "output_type": "stream",
     "text": [
      "Training Accuracy: 100.000%\n",
      "Class-Based Accuracies:\n",
      "Accuracy of Class 1: 100.000%\n",
      "Accuracy of Class 2: 100.000%\n",
      "Accuracy of Class 3: 100.000%\n"
     ]
    },
    {
     "data": {
      "image/png": "[encoded data removed]",
      "text/plain": [
       "<Figure size 432x288 with 2 Axes>"
      ]
     },
     "metadata": {
      "needs_background": "light"
     },
     "output_type": "display_data"
    },
    {
     "name": "stdout",
     "output_type": "stream",
     "text": [
      "Test Accuracy: 99.125%\n",
      "Class-Based Accuracies:\n",
      "Accuracy of Class 1: 88.732%\n",
      "Accuracy of Class 2: 94.118%\n",
      "Accuracy of Class 3: 99.653%\n"
     ]
    },
    {
     "data": {
      "image/png": "[encoded data removed]",
      "text/plain": [
       "<Figure size 432x288 with 2 Axes>"
      ]
     },
     "metadata": {
      "needs_background": "light"
     },
     "output_type": "display_data"
    }
   ],
   "source": [
    "def traintestresults(root, train_features, train_labels, test_features, test_labels):\n",
    "    #TRAINING ACCURACIES\n",
    "    train_pred = predict(root, train_features)\n",
    "    #print(train_pred.shape, train_pred.min(), train_pred.max())\n",
    "    print('Training Accuracy: %.3f%%' % (np.sum(train_pred==train_labels)\n",
    "          /train_pred.shape[0]*100))\n",
    "    numSamples = np.zeros(3)\n",
    "    truePreds =  np.zeros(3)\n",
    "    for sample, result in zip(train_labels, train_pred):\n",
    "        numSamples[int(result)-1] += 1\n",
    "        if(sample == result):\n",
    "            truePreds[int(result)-1] += 1\n",
    "    classAccs = truePreds/numSamples*100\n",
    "    print('Class-Based Accuracies:')\n",
    "    for i in range(3):\n",
    "        print('Accuracy of Class %d: %.3f%%' % (i+1,classAccs[i]))\n",
    "    cm = confusion_matrix(train_labels, train_pred, labels=[1,2,3])\n",
    "    cm_display = ConfusionMatrixDisplay(cm, display_labels=[1,2,3]).plot()\n",
    "    plt.title('Confusion Matrix for Training Data')\n",
    "    plt.show()\n",
    "    \n",
    "    #TEST ACCURACIES\n",
    "    test_pred = predict(root, test_features)\n",
    "    #print(test_pred.shape, test_pred.min(), test_pred.max())\n",
    "    print('Test Accuracy: %.3f%%' % (np.sum(test_pred==test_labels)\n",
    "          /test_pred.shape[0]*100))\n",
    "    numSamples = np.zeros(3)\n",
    "    truePreds =  np.zeros(3)\n",
    "    for sample, result in zip(test_labels, test_pred):\n",
    "        numSamples[int(result)-1] += 1\n",
    "        if(sample == result):\n",
    "            truePreds[int(result)-1] += 1\n",
    "    classAccs = truePreds/numSamples*100\n",
    "    print('Class-Based Accuracies:')\n",
    "    for i in range(3):\n",
    "        print('Accuracy of Class %d: %.3f%%' % (i+1,classAccs[i]))\n",
    "        \n",
    "    cm = confusion_matrix(test_labels, test_pred, labels=[1,2,3])\n",
    "    cm_display = ConfusionMatrixDisplay(cm, display_labels=[1,2,3]).plot()\n",
    "    plt.title('Confusion Matrix for Test Data')\n",
    "    plt.show()\n",
    "traintestresults(tree, train_features, train_labels, test_features, test_labels)"
   ]
  },
  {
   "cell_type": "code",
   "execution_count": 67,
   "metadata": {},
   "outputs": [
    {
     "name": "stdout",
     "output_type": "stream",
     "text": [
      "Max Depth: 7, Test Accuracy: 99.183%\n",
      "Max Depth: 8, Test Accuracy: 99.183%\n",
      "Max Depth: 9, Test Accuracy: 99.183%\n",
      "Max Depth: 10, Test Accuracy: 99.183%\n",
      "Max Depth: 11, Test Accuracy: 99.183%\n",
      "Max Depth: 12, Test Accuracy: 99.183%\n",
      "Max Depth: 13, Test Accuracy: 99.183%\n",
      "Max Depth: 14, Test Accuracy: 99.183%\n"
     ]
    }
   ],
   "source": [
    "#Find the best depth pruning\n",
    "pruneList = [7,8,9,10,11,12,13,14]\n",
    "for prune in pruneList:\n",
    "    tree = trainClassifier(train_features, train_labels, choice=['gini'], prun=['depth', prune])\n",
    "    test_pred = predict(tree, test_features)\n",
    "    test_acc = np.sum(test_pred==test_labels)/len(test_labels)*100\n",
    "    print('Max Depth: %d, Test Accuracy: %.3f%%' % (prune, test_acc))"
   ]
  },
  {
   "cell_type": "code",
   "execution_count": 68,
   "metadata": {},
   "outputs": [
    {
     "name": "stdout",
     "output_type": "stream",
     "text": [
      "Information Gain Threshold: 0.090, Test Accuracy: 99.271%\n",
      "Information Gain Threshold: 0.100, Test Accuracy: 99.329%\n",
      "Information Gain Threshold: 0.110, Test Accuracy: 99.329%\n",
      "Information Gain Threshold: 0.120, Test Accuracy: 99.329%\n",
      "Information Gain Threshold: 0.130, Test Accuracy: 99.329%\n",
      "Information Gain Threshold: 0.140, Test Accuracy: 99.329%\n",
      "Information Gain Threshold: 0.150, Test Accuracy: 99.329%\n",
      "Information Gain Threshold: 0.160, Test Accuracy: 99.329%\n",
      "Information Gain Threshold: 0.170, Test Accuracy: 99.329%\n",
      "Information Gain Threshold: 0.180, Test Accuracy: 99.212%\n",
      "Information Gain Threshold: 0.190, Test Accuracy: 98.804%\n",
      "Information Gain Threshold: 0.200, Test Accuracy: 98.804%\n"
     ]
    }
   ],
   "source": [
    "gainList = [0.09,0.1,0.11,0.12,0.13,0.14,0.15, 0.16, 0.17, 0.18, 0.19, 0.20]\n",
    "for gain in gainList:\n",
    "    tree = trainClassifier(train_features, train_labels, choice=['gini'], prun=['gain', gain])\n",
    "    test_pred = predict(tree, test_features)\n",
    "    test_acc = np.sum(test_pred==test_labels)/len(test_labels)*100\n",
    "    print('Information Gain Threshold: %.3f, Test Accuracy: %.3f%%' % (gain, test_acc))"
   ]
  },
  {
   "cell_type": "code",
   "execution_count": 69,
   "metadata": {},
   "outputs": [
    {
     "name": "stdout",
     "output_type": "stream",
     "text": [
      "Information Gain Threshold: 0.161, Test Accuracy: 99.329%\n",
      "Information Gain Threshold: 0.162, Test Accuracy: 99.329%\n",
      "Information Gain Threshold: 0.163, Test Accuracy: 99.329%\n",
      "Information Gain Threshold: 0.164, Test Accuracy: 99.329%\n",
      "Information Gain Threshold: 0.165, Test Accuracy: 99.329%\n",
      "Information Gain Threshold: 0.166, Test Accuracy: 99.329%\n",
      "Information Gain Threshold: 0.167, Test Accuracy: 99.329%\n",
      "Information Gain Threshold: 0.168, Test Accuracy: 99.329%\n",
      "Information Gain Threshold: 0.169, Test Accuracy: 99.329%\n"
     ]
    }
   ],
   "source": [
    "gainList = [0.161, 0.162, 0.163, 0.164, 0.165, 0.166, 0.167, 0.168, 0.169]\n",
    "for gain in gainList:\n",
    "    tree = trainClassifier(train_features, train_labels, choice=['gini'], prun=['gain', gain])\n",
    "    test_pred = predict(tree, test_features)\n",
    "    test_acc = np.sum(test_pred==test_labels)/len(test_labels)*100\n",
    "    print('Information Gain Threshold: %.3f, Test Accuracy: %.3f%%' % (gain, test_acc))"
   ]
  },
  {
   "cell_type": "code",
   "execution_count": 71,
   "metadata": {},
   "outputs": [
    {
     "name": "stdout",
     "output_type": "stream",
     "text": [
      "Information Gain Threshold: 0.090, Test Accuracy: 99.271%\n",
      "Information Gain Threshold: 0.100, Test Accuracy: 99.271%\n",
      "Information Gain Threshold: 0.110, Test Accuracy: 99.300%\n",
      "Information Gain Threshold: 0.120, Test Accuracy: 99.300%\n",
      "Information Gain Threshold: 0.130, Test Accuracy: 98.775%\n",
      "Information Gain Threshold: 0.140, Test Accuracy: 98.775%\n",
      "Information Gain Threshold: 0.150, Test Accuracy: 98.775%\n",
      "Information Gain Threshold: 0.160, Test Accuracy: 98.775%\n",
      "Information Gain Threshold: 0.165, Test Accuracy: 98.775%\n",
      "Information Gain Threshold: 0.170, Test Accuracy: 98.775%\n",
      "Information Gain Threshold: 0.180, Test Accuracy: 98.775%\n",
      "Information Gain Threshold: 0.190, Test Accuracy: 98.775%\n",
      "Information Gain Threshold: 0.200, Test Accuracy: 98.775%\n"
     ]
    }
   ],
   "source": [
    "gainList = [0.09,0.1,0.11,0.12,0.13,0.14,0.15, 0.16, 0.165, 0.17, 0.18, 0.19, 0.20]\n",
    "for gain in gainList:\n",
    "    tree = trainClassifier(train_features, train_labels, choice=['tan'], prun=['gain', gain],costVector=costVector)\n",
    "    test_pred = predict(tree, test_features)\n",
    "    test_acc = np.sum(test_pred==test_labels)/len(test_labels)*100\n",
    "    print('Information Gain Threshold: %.3f, Test Accuracy: %.3f%%' % (gain, test_acc))"
   ]
  },
  {
   "cell_type": "code",
   "execution_count": 70,
   "metadata": {},
   "outputs": [
    {
     "ename": "KeyboardInterrupt",
     "evalue": "",
     "output_type": "error",
     "traceback": [
      "\u001b[0;31m---------------------------------------------------------------------------\u001b[0m",
      "\u001b[0;31mKeyboardInterrupt\u001b[0m                         Traceback (most recent call last)",
      "\u001b[0;32m<ipython-input-70-4b9bdd929528>\u001b[0m in \u001b[0;36m<module>\u001b[0;34m\u001b[0m\n\u001b[1;32m      3\u001b[0m \u001b[0;32mfor\u001b[0m \u001b[0mgain\u001b[0m \u001b[0;32min\u001b[0m \u001b[0mgainList\u001b[0m\u001b[0;34m:\u001b[0m\u001b[0;34m\u001b[0m\u001b[0;34m\u001b[0m\u001b[0m\n\u001b[1;32m      4\u001b[0m     \u001b[0;32mfor\u001b[0m \u001b[0mw\u001b[0m \u001b[0;32min\u001b[0m \u001b[0mwList\u001b[0m\u001b[0;34m:\u001b[0m\u001b[0;34m\u001b[0m\u001b[0;34m\u001b[0m\u001b[0m\n\u001b[0;32m----> 5\u001b[0;31m         \u001b[0mtree\u001b[0m \u001b[0;34m=\u001b[0m \u001b[0mtrainClassifier\u001b[0m\u001b[0;34m(\u001b[0m\u001b[0mtrain_features\u001b[0m\u001b[0;34m,\u001b[0m \u001b[0mtrain_labels\u001b[0m\u001b[0;34m,\u001b[0m \u001b[0mchoice\u001b[0m\u001b[0;34m=\u001b[0m\u001b[0;34m[\u001b[0m\u001b[0;34m'nunez'\u001b[0m\u001b[0;34m,\u001b[0m \u001b[0mw\u001b[0m\u001b[0;34m]\u001b[0m\u001b[0;34m,\u001b[0m \u001b[0mprun\u001b[0m\u001b[0;34m=\u001b[0m\u001b[0;34m[\u001b[0m\u001b[0;34m'gain'\u001b[0m\u001b[0;34m,\u001b[0m \u001b[0mgain\u001b[0m\u001b[0;34m]\u001b[0m\u001b[0;34m)\u001b[0m\u001b[0;34m\u001b[0m\u001b[0;34m\u001b[0m\u001b[0m\n\u001b[0m\u001b[1;32m      6\u001b[0m         \u001b[0mtest_pred\u001b[0m \u001b[0;34m=\u001b[0m \u001b[0mpredict\u001b[0m\u001b[0;34m(\u001b[0m\u001b[0mtree\u001b[0m\u001b[0;34m,\u001b[0m \u001b[0mtest_features\u001b[0m\u001b[0;34m)\u001b[0m\u001b[0;34m\u001b[0m\u001b[0;34m\u001b[0m\u001b[0m\n\u001b[1;32m      7\u001b[0m         \u001b[0mtest_acc\u001b[0m \u001b[0;34m=\u001b[0m \u001b[0mnp\u001b[0m\u001b[0;34m.\u001b[0m\u001b[0msum\u001b[0m\u001b[0;34m(\u001b[0m\u001b[0mtest_pred\u001b[0m\u001b[0;34m==\u001b[0m\u001b[0mtest_labels\u001b[0m\u001b[0;34m)\u001b[0m\u001b[0;34m/\u001b[0m\u001b[0mlen\u001b[0m\u001b[0;34m(\u001b[0m\u001b[0mtest_labels\u001b[0m\u001b[0;34m)\u001b[0m\u001b[0;34m*\u001b[0m\u001b[0;36m100\u001b[0m\u001b[0;34m\u001b[0m\u001b[0;34m\u001b[0m\u001b[0m\n",
      "\u001b[0;32m<ipython-input-64-e1a5108fea0c>\u001b[0m in \u001b[0;36mtrainClassifier\u001b[0;34m(features, labels, choice, prun, costVector)\u001b[0m\n\u001b[1;32m    181\u001b[0m \u001b[0;34m\u001b[0m\u001b[0m\n\u001b[1;32m    182\u001b[0m     \u001b[0mroot\u001b[0m \u001b[0;34m=\u001b[0m \u001b[0mNode\u001b[0m\u001b[0;34m(\u001b[0m\u001b[0;36m0\u001b[0m\u001b[0;34m,\u001b[0m \u001b[0;32mNone\u001b[0m\u001b[0;34m)\u001b[0m\u001b[0;34m\u001b[0m\u001b[0;34m\u001b[0m\u001b[0m\n\u001b[0;32m--> 183\u001b[0;31m     \u001b[0mcreateTree\u001b[0m\u001b[0;34m(\u001b[0m\u001b[0mroot\u001b[0m\u001b[0;34m,\u001b[0m \u001b[0mfeatures\u001b[0m\u001b[0;34m,\u001b[0m \u001b[0mlabels\u001b[0m\u001b[0;34m,\u001b[0m \u001b[0mchoice\u001b[0m\u001b[0;34m,\u001b[0m \u001b[0mprun\u001b[0m\u001b[0;34m,\u001b[0m \u001b[0mcostVector\u001b[0m\u001b[0;34m)\u001b[0m\u001b[0;34m\u001b[0m\u001b[0;34m\u001b[0m\u001b[0m\n\u001b[0m\u001b[1;32m    184\u001b[0m     \u001b[0;32mreturn\u001b[0m \u001b[0mroot\u001b[0m\u001b[0;34m\u001b[0m\u001b[0;34m\u001b[0m\u001b[0m\n\u001b[1;32m    185\u001b[0m \u001b[0;34m\u001b[0m\u001b[0m\n",
      "\u001b[0;32m<ipython-input-64-e1a5108fea0c>\u001b[0m in \u001b[0;36mcreateTree\u001b[0;34m(node, features, labels, choice, prun, costVector)\u001b[0m\n\u001b[1;32m    151\u001b[0m             \u001b[0malteredCostVector\u001b[0m \u001b[0;34m=\u001b[0m \u001b[0malterCostVector\u001b[0m\u001b[0;34m(\u001b[0m\u001b[0mnode\u001b[0m\u001b[0;34m,\u001b[0m \u001b[0mcostVector\u001b[0m\u001b[0;34m)\u001b[0m\u001b[0;34m\u001b[0m\u001b[0;34m\u001b[0m\u001b[0m\n\u001b[1;32m    152\u001b[0m             \u001b[0msplit_val\u001b[0m\u001b[0;34m,\u001b[0m \u001b[0msplit_feat_index\u001b[0m\u001b[0;34m,\u001b[0m \u001b[0minfGain\u001b[0m\u001b[0;34m,\u001b[0m \u001b[0mleft_features\u001b[0m\u001b[0;34m,\u001b[0m \u001b[0mleft_labels\u001b[0m\u001b[0;34m,\u001b[0m \u001b[0mright_features\u001b[0m\u001b[0;34m,\u001b[0m \u001b[0mright_labels\u001b[0m \u001b[0;34m=\u001b[0m\u001b[0;31m \u001b[0m\u001b[0;31m\\\u001b[0m\u001b[0;34m\u001b[0m\u001b[0;34m\u001b[0m\u001b[0m\n\u001b[0;32m--> 153\u001b[0;31m             \u001b[0mbestSplit\u001b[0m\u001b[0;34m(\u001b[0m\u001b[0mfeatures\u001b[0m\u001b[0;34m,\u001b[0m \u001b[0mlabels\u001b[0m\u001b[0;34m,\u001b[0m \u001b[0mchoice\u001b[0m\u001b[0;34m,\u001b[0m \u001b[0malteredCostVector\u001b[0m\u001b[0;34m)\u001b[0m\u001b[0;34m\u001b[0m\u001b[0;34m\u001b[0m\u001b[0m\n\u001b[0m\u001b[1;32m    154\u001b[0m         \u001b[0;32melse\u001b[0m\u001b[0;34m:\u001b[0m\u001b[0;34m\u001b[0m\u001b[0;34m\u001b[0m\u001b[0m\n\u001b[1;32m    155\u001b[0m             \u001b[0msplit_val\u001b[0m\u001b[0;34m,\u001b[0m \u001b[0msplit_feat_index\u001b[0m\u001b[0;34m,\u001b[0m \u001b[0minfGain\u001b[0m\u001b[0;34m,\u001b[0m \u001b[0mleft_features\u001b[0m\u001b[0;34m,\u001b[0m \u001b[0mleft_labels\u001b[0m\u001b[0;34m,\u001b[0m \u001b[0mright_features\u001b[0m\u001b[0;34m,\u001b[0m \u001b[0mright_labels\u001b[0m \u001b[0;34m=\u001b[0m\u001b[0;31m \u001b[0m\u001b[0;31m\\\u001b[0m\u001b[0;34m\u001b[0m\u001b[0;34m\u001b[0m\u001b[0m\n",
      "\u001b[0;32m<ipython-input-64-e1a5108fea0c>\u001b[0m in \u001b[0;36mbestSplit\u001b[0;34m(features, labels, choice, costVector)\u001b[0m\n\u001b[1;32m    105\u001b[0m             \u001b[0mchoiceTemp\u001b[0m \u001b[0;34m=\u001b[0m \u001b[0mlist\u001b[0m\u001b[0;34m.\u001b[0m\u001b[0mcopy\u001b[0m\u001b[0;34m(\u001b[0m\u001b[0mchoice\u001b[0m\u001b[0;34m)\u001b[0m\u001b[0;34m\u001b[0m\u001b[0;34m\u001b[0m\u001b[0m\n\u001b[1;32m    106\u001b[0m             \u001b[0mchoiceTemp\u001b[0m\u001b[0;34m.\u001b[0m\u001b[0mappend\u001b[0m\u001b[0;34m(\u001b[0m\u001b[0mcostVector\u001b[0m\u001b[0;34m[\u001b[0m\u001b[0mi\u001b[0m\u001b[0;34m]\u001b[0m\u001b[0;34m)\u001b[0m\u001b[0;34m\u001b[0m\u001b[0;34m\u001b[0m\u001b[0m\n\u001b[0;32m--> 107\u001b[0;31m             \u001b[0msplitCrit\u001b[0m\u001b[0;34m,\u001b[0m \u001b[0mthr\u001b[0m\u001b[0;34m,\u001b[0m \u001b[0mgain\u001b[0m \u001b[0;34m=\u001b[0m \u001b[0mbestSplitofFeature\u001b[0m\u001b[0;34m(\u001b[0m\u001b[0mfeature_oi\u001b[0m\u001b[0;34m,\u001b[0m \u001b[0mlabels\u001b[0m\u001b[0;34m,\u001b[0m \u001b[0mchoiceTemp\u001b[0m\u001b[0;34m)\u001b[0m\u001b[0;34m\u001b[0m\u001b[0;34m\u001b[0m\u001b[0m\n\u001b[0m\u001b[1;32m    108\u001b[0m         \u001b[0;32melse\u001b[0m\u001b[0;34m:\u001b[0m\u001b[0;34m\u001b[0m\u001b[0;34m\u001b[0m\u001b[0m\n\u001b[1;32m    109\u001b[0m             \u001b[0msplitCrit\u001b[0m\u001b[0;34m,\u001b[0m \u001b[0mthr\u001b[0m\u001b[0;34m,\u001b[0m \u001b[0mgain\u001b[0m \u001b[0;34m=\u001b[0m \u001b[0mbestSplitofFeature\u001b[0m\u001b[0;34m(\u001b[0m\u001b[0mfeature_oi\u001b[0m\u001b[0;34m,\u001b[0m \u001b[0mlabels\u001b[0m\u001b[0;34m,\u001b[0m \u001b[0mchoice\u001b[0m\u001b[0;34m)\u001b[0m\u001b[0;34m\u001b[0m\u001b[0;34m\u001b[0m\u001b[0m\n",
      "\u001b[0;32m<ipython-input-64-e1a5108fea0c>\u001b[0m in \u001b[0;36mbestSplitofFeature\u001b[0;34m(feature, labels, choice)\u001b[0m\n\u001b[1;32m     85\u001b[0m     \u001b[0minfGain\u001b[0m \u001b[0;34m=\u001b[0m \u001b[0;34m-\u001b[0m\u001b[0;36m1\u001b[0m\u001b[0;34m\u001b[0m\u001b[0;34m\u001b[0m\u001b[0m\n\u001b[1;32m     86\u001b[0m     \u001b[0;32mfor\u001b[0m \u001b[0mval\u001b[0m \u001b[0;32min\u001b[0m \u001b[0mfeature\u001b[0m\u001b[0;34m:\u001b[0m\u001b[0;34m\u001b[0m\u001b[0;34m\u001b[0m\u001b[0m\n\u001b[0;32m---> 87\u001b[0;31m         \u001b[0msplitCrit\u001b[0m \u001b[0;34m=\u001b[0m \u001b[0msplittingCriterion\u001b[0m\u001b[0;34m(\u001b[0m\u001b[0mfeature\u001b[0m\u001b[0;34m,\u001b[0m \u001b[0mlabels\u001b[0m\u001b[0;34m,\u001b[0m \u001b[0mval\u001b[0m\u001b[0;34m,\u001b[0m \u001b[0mchoice\u001b[0m\u001b[0;34m)\u001b[0m\u001b[0;34m\u001b[0m\u001b[0;34m\u001b[0m\u001b[0m\n\u001b[0m\u001b[1;32m     88\u001b[0m         \u001b[0;32mif\u001b[0m\u001b[0;34m(\u001b[0m\u001b[0msplitCrit\u001b[0m \u001b[0;34m<=\u001b[0m \u001b[0mbestSplitCrit\u001b[0m\u001b[0;34m)\u001b[0m\u001b[0;34m:\u001b[0m\u001b[0;34m\u001b[0m\u001b[0;34m\u001b[0m\u001b[0m\n\u001b[1;32m     89\u001b[0m             \u001b[0mbestSplitCrit\u001b[0m \u001b[0;34m=\u001b[0m \u001b[0msplitCrit\u001b[0m\u001b[0;34m;\u001b[0m\u001b[0;34m\u001b[0m\u001b[0;34m\u001b[0m\u001b[0m\n",
      "\u001b[0;32m<ipython-input-64-e1a5108fea0c>\u001b[0m in \u001b[0;36msplittingCriterion\u001b[0;34m(feature, labels, val, choice)\u001b[0m\n\u001b[1;32m     77\u001b[0m         \u001b[0;32mreturn\u001b[0m \u001b[0mcalcSplitImpurity\u001b[0m\u001b[0;34m(\u001b[0m\u001b[0mfeature\u001b[0m\u001b[0;34m,\u001b[0m \u001b[0mlabels\u001b[0m\u001b[0;34m,\u001b[0m \u001b[0mval\u001b[0m\u001b[0;34m,\u001b[0m \u001b[0mchoice\u001b[0m\u001b[0;34m[\u001b[0m\u001b[0;36m0\u001b[0m\u001b[0;34m]\u001b[0m\u001b[0;34m)\u001b[0m\u001b[0;34m\u001b[0m\u001b[0;34m\u001b[0m\u001b[0m\n\u001b[1;32m     78\u001b[0m     \u001b[0;32melse\u001b[0m\u001b[0;34m:\u001b[0m\u001b[0;34m\u001b[0m\u001b[0;34m\u001b[0m\u001b[0m\n\u001b[0;32m---> 79\u001b[0;31m         \u001b[0;32mreturn\u001b[0m \u001b[0mcostSensitiveSplit\u001b[0m\u001b[0;34m(\u001b[0m\u001b[0mfeature\u001b[0m\u001b[0;34m,\u001b[0m \u001b[0mlabels\u001b[0m\u001b[0;34m,\u001b[0m \u001b[0mval\u001b[0m\u001b[0;34m,\u001b[0m \u001b[0mchoice\u001b[0m\u001b[0;34m)\u001b[0m\u001b[0;34m\u001b[0m\u001b[0;34m\u001b[0m\u001b[0m\n\u001b[0m\u001b[1;32m     80\u001b[0m \u001b[0;34m\u001b[0m\u001b[0m\n\u001b[1;32m     81\u001b[0m \u001b[0;34m\u001b[0m\u001b[0m\n",
      "\u001b[0;32m<ipython-input-64-e1a5108fea0c>\u001b[0m in \u001b[0;36mcostSensitiveSplit\u001b[0;34m(feature, labels, val, choice)\u001b[0m\n\u001b[1;32m     38\u001b[0m \u001b[0;31m# Since we take the minimum of criterion, we take the inverse of the criterion described in slides\u001b[0m\u001b[0;34m\u001b[0m\u001b[0;34m\u001b[0m\u001b[0;34m\u001b[0m\u001b[0m\n\u001b[1;32m     39\u001b[0m \u001b[0;32mdef\u001b[0m \u001b[0mcostSensitiveSplit\u001b[0m\u001b[0;34m(\u001b[0m\u001b[0mfeature\u001b[0m\u001b[0;34m,\u001b[0m \u001b[0mlabels\u001b[0m\u001b[0;34m,\u001b[0m \u001b[0mval\u001b[0m\u001b[0;34m,\u001b[0m \u001b[0mchoice\u001b[0m\u001b[0;34m)\u001b[0m\u001b[0;34m:\u001b[0m\u001b[0;34m\u001b[0m\u001b[0;34m\u001b[0m\u001b[0m\n\u001b[0;32m---> 40\u001b[0;31m     \u001b[0minfoGain\u001b[0m \u001b[0;34m=\u001b[0m \u001b[0mcalcInfoGain\u001b[0m\u001b[0;34m(\u001b[0m\u001b[0mfeature\u001b[0m\u001b[0;34m,\u001b[0m \u001b[0mlabels\u001b[0m\u001b[0;34m,\u001b[0m \u001b[0mval\u001b[0m\u001b[0;34m)\u001b[0m\u001b[0;34m\u001b[0m\u001b[0;34m\u001b[0m\u001b[0m\n\u001b[0m\u001b[1;32m     41\u001b[0m     \u001b[0;32mif\u001b[0m \u001b[0mchoice\u001b[0m\u001b[0;34m[\u001b[0m\u001b[0;36m0\u001b[0m\u001b[0;34m]\u001b[0m \u001b[0;34m==\u001b[0m \u001b[0;34m'nunez'\u001b[0m\u001b[0;34m:\u001b[0m\u001b[0;34m\u001b[0m\u001b[0;34m\u001b[0m\u001b[0m\n\u001b[1;32m     42\u001b[0m         \u001b[0;31m#return ((choice[2]+1)**choice[1])/(2**(infoGain-1))\u001b[0m\u001b[0;34m\u001b[0m\u001b[0;34m\u001b[0m\u001b[0;34m\u001b[0m\u001b[0m\n",
      "\u001b[0;32m<ipython-input-64-e1a5108fea0c>\u001b[0m in \u001b[0;36mcalcInfoGain\u001b[0;34m(feature, labels, val)\u001b[0m\n\u001b[1;32m     32\u001b[0m \u001b[0;32mdef\u001b[0m \u001b[0mcalcInfoGain\u001b[0m\u001b[0;34m(\u001b[0m\u001b[0mfeature\u001b[0m\u001b[0;34m,\u001b[0m \u001b[0mlabels\u001b[0m\u001b[0;34m,\u001b[0m \u001b[0mval\u001b[0m\u001b[0;34m)\u001b[0m\u001b[0;34m:\u001b[0m\u001b[0;34m\u001b[0m\u001b[0;34m\u001b[0m\u001b[0m\n\u001b[1;32m     33\u001b[0m     \u001b[0mentropy\u001b[0m \u001b[0;34m=\u001b[0m \u001b[0mcalcImpurity\u001b[0m\u001b[0;34m(\u001b[0m\u001b[0mlabels\u001b[0m\u001b[0;34m,\u001b[0m \u001b[0;34m'entropy'\u001b[0m\u001b[0;34m)\u001b[0m\u001b[0;34m\u001b[0m\u001b[0;34m\u001b[0m\u001b[0m\n\u001b[0;32m---> 34\u001b[0;31m     \u001b[0msplit_entropy\u001b[0m \u001b[0;34m=\u001b[0m \u001b[0mcalcSplitImpurity\u001b[0m\u001b[0;34m(\u001b[0m\u001b[0mfeature\u001b[0m\u001b[0;34m,\u001b[0m \u001b[0mlabels\u001b[0m\u001b[0;34m,\u001b[0m \u001b[0mval\u001b[0m\u001b[0;34m,\u001b[0m \u001b[0;34m'entropy'\u001b[0m\u001b[0;34m)\u001b[0m\u001b[0;34m\u001b[0m\u001b[0;34m\u001b[0m\u001b[0m\n\u001b[0m\u001b[1;32m     35\u001b[0m     \u001b[0;32mreturn\u001b[0m \u001b[0mentropy\u001b[0m \u001b[0;34m-\u001b[0m \u001b[0msplit_entropy\u001b[0m\u001b[0;34m\u001b[0m\u001b[0;34m\u001b[0m\u001b[0m\n\u001b[1;32m     36\u001b[0m \u001b[0;34m\u001b[0m\u001b[0m\n",
      "\u001b[0;32m<ipython-input-64-e1a5108fea0c>\u001b[0m in \u001b[0;36mcalcSplitImpurity\u001b[0;34m(feature, labels, val, impurity)\u001b[0m\n\u001b[1;32m     28\u001b[0m     \u001b[0mp_left\u001b[0m \u001b[0;34m=\u001b[0m \u001b[0mlen\u001b[0m\u001b[0;34m(\u001b[0m\u001b[0mleft_split\u001b[0m\u001b[0;34m)\u001b[0m\u001b[0;34m/\u001b[0m\u001b[0mlen\u001b[0m\u001b[0;34m(\u001b[0m\u001b[0mlabels\u001b[0m\u001b[0;34m)\u001b[0m\u001b[0;34m\u001b[0m\u001b[0;34m\u001b[0m\u001b[0m\n\u001b[1;32m     29\u001b[0m     \u001b[0mright_split\u001b[0m \u001b[0;34m=\u001b[0m \u001b[0mlabels\u001b[0m\u001b[0;34m[\u001b[0m\u001b[0mfeature\u001b[0m \u001b[0;34m>\u001b[0m \u001b[0mval\u001b[0m\u001b[0;34m]\u001b[0m\u001b[0;34m\u001b[0m\u001b[0;34m\u001b[0m\u001b[0m\n\u001b[0;32m---> 30\u001b[0;31m     \u001b[0;32mreturn\u001b[0m \u001b[0mp_left\u001b[0m \u001b[0;34m*\u001b[0m \u001b[0mcalcImpurity\u001b[0m\u001b[0;34m(\u001b[0m\u001b[0mleft_split\u001b[0m\u001b[0;34m,\u001b[0m \u001b[0mimpurity\u001b[0m\u001b[0;34m)\u001b[0m \u001b[0;34m+\u001b[0m \u001b[0;34m(\u001b[0m\u001b[0;36m1\u001b[0m\u001b[0;34m-\u001b[0m\u001b[0mp_left\u001b[0m\u001b[0;34m)\u001b[0m \u001b[0;34m*\u001b[0m \u001b[0mcalcImpurity\u001b[0m\u001b[0;34m(\u001b[0m\u001b[0mright_split\u001b[0m\u001b[0;34m,\u001b[0m \u001b[0mimpurity\u001b[0m\u001b[0;34m)\u001b[0m\u001b[0;34m\u001b[0m\u001b[0;34m\u001b[0m\u001b[0m\n\u001b[0m\u001b[1;32m     31\u001b[0m \u001b[0;34m\u001b[0m\u001b[0m\n\u001b[1;32m     32\u001b[0m \u001b[0;32mdef\u001b[0m \u001b[0mcalcInfoGain\u001b[0m\u001b[0;34m(\u001b[0m\u001b[0mfeature\u001b[0m\u001b[0;34m,\u001b[0m \u001b[0mlabels\u001b[0m\u001b[0;34m,\u001b[0m \u001b[0mval\u001b[0m\u001b[0;34m)\u001b[0m\u001b[0;34m:\u001b[0m\u001b[0;34m\u001b[0m\u001b[0;34m\u001b[0m\u001b[0m\n",
      "\u001b[0;32m<ipython-input-64-e1a5108fea0c>\u001b[0m in \u001b[0;36mcalcImpurity\u001b[0;34m(nodeLabels, impurity)\u001b[0m\n\u001b[1;32m     20\u001b[0m         \u001b[0;32mreturn\u001b[0m \u001b[0mgini\u001b[0m\u001b[0;34m(\u001b[0m\u001b[0mnodeLabels\u001b[0m\u001b[0;34m)\u001b[0m\u001b[0;34m\u001b[0m\u001b[0;34m\u001b[0m\u001b[0m\n\u001b[1;32m     21\u001b[0m     \u001b[0;32melif\u001b[0m\u001b[0;34m(\u001b[0m\u001b[0mimpurity\u001b[0m \u001b[0;34m==\u001b[0m \u001b[0;34m'entropy'\u001b[0m\u001b[0;34m)\u001b[0m\u001b[0;34m:\u001b[0m\u001b[0;34m\u001b[0m\u001b[0;34m\u001b[0m\u001b[0m\n\u001b[0;32m---> 22\u001b[0;31m         \u001b[0;32mreturn\u001b[0m \u001b[0mentropy\u001b[0m\u001b[0;34m(\u001b[0m\u001b[0mnodeLabels\u001b[0m\u001b[0;34m)\u001b[0m\u001b[0;34m\u001b[0m\u001b[0;34m\u001b[0m\u001b[0m\n\u001b[0m\u001b[1;32m     23\u001b[0m     \u001b[0;32melse\u001b[0m\u001b[0;34m:\u001b[0m\u001b[0;34m\u001b[0m\u001b[0;34m\u001b[0m\u001b[0m\n\u001b[1;32m     24\u001b[0m         \u001b[0;32mraise\u001b[0m \u001b[0mException\u001b[0m\u001b[0;34m(\u001b[0m\u001b[0;34m\"Invalid choice of Impurity: \"\u001b[0m \u001b[0;34m+\u001b[0m \u001b[0mimpurity\u001b[0m\u001b[0;34m[\u001b[0m\u001b[0;36m0\u001b[0m\u001b[0;34m]\u001b[0m\u001b[0;34m)\u001b[0m\u001b[0;34m\u001b[0m\u001b[0;34m\u001b[0m\u001b[0m\n",
      "\u001b[0;32m<ipython-input-64-e1a5108fea0c>\u001b[0m in \u001b[0;36mentropy\u001b[0;34m(nodeLabels)\u001b[0m\n\u001b[1;32m      9\u001b[0m \u001b[0;34m\u001b[0m\u001b[0m\n\u001b[1;32m     10\u001b[0m \u001b[0;32mdef\u001b[0m \u001b[0mentropy\u001b[0m\u001b[0;34m(\u001b[0m\u001b[0mnodeLabels\u001b[0m\u001b[0;34m)\u001b[0m\u001b[0;34m:\u001b[0m\u001b[0;34m\u001b[0m\u001b[0;34m\u001b[0m\u001b[0m\n\u001b[0;32m---> 11\u001b[0;31m     \u001b[0mlabels\u001b[0m\u001b[0;34m,\u001b[0m \u001b[0mcounts\u001b[0m \u001b[0;34m=\u001b[0m \u001b[0mnp\u001b[0m\u001b[0;34m.\u001b[0m\u001b[0munique\u001b[0m\u001b[0;34m(\u001b[0m\u001b[0mnodeLabels\u001b[0m\u001b[0;34m,\u001b[0m \u001b[0mreturn_counts\u001b[0m\u001b[0;34m=\u001b[0m\u001b[0;32mTrue\u001b[0m\u001b[0;34m)\u001b[0m\u001b[0;34m\u001b[0m\u001b[0;34m\u001b[0m\u001b[0m\n\u001b[0m\u001b[1;32m     12\u001b[0m     \u001b[0mentropy\u001b[0m \u001b[0;34m=\u001b[0m \u001b[0;36m0\u001b[0m\u001b[0;34m\u001b[0m\u001b[0;34m\u001b[0m\u001b[0m\n\u001b[1;32m     13\u001b[0m     \u001b[0mall_counts\u001b[0m \u001b[0;34m=\u001b[0m \u001b[0mnp\u001b[0m\u001b[0;34m.\u001b[0m\u001b[0msum\u001b[0m\u001b[0;34m(\u001b[0m\u001b[0mcounts\u001b[0m\u001b[0;34m)\u001b[0m\u001b[0;34m\u001b[0m\u001b[0;34m\u001b[0m\u001b[0m\n",
      "\u001b[0;32m<__array_function__ internals>\u001b[0m in \u001b[0;36munique\u001b[0;34m(*args, **kwargs)\u001b[0m\n",
      "\u001b[0;32m~/Library/Python/3.7/lib/python/site-packages/numpy/lib/arraysetops.py\u001b[0m in \u001b[0;36munique\u001b[0;34m(ar, return_index, return_inverse, return_counts, axis)\u001b[0m\n\u001b[1;32m    261\u001b[0m     \u001b[0mar\u001b[0m \u001b[0;34m=\u001b[0m \u001b[0mnp\u001b[0m\u001b[0;34m.\u001b[0m\u001b[0masanyarray\u001b[0m\u001b[0;34m(\u001b[0m\u001b[0mar\u001b[0m\u001b[0;34m)\u001b[0m\u001b[0;34m\u001b[0m\u001b[0;34m\u001b[0m\u001b[0m\n\u001b[1;32m    262\u001b[0m     \u001b[0;32mif\u001b[0m \u001b[0maxis\u001b[0m \u001b[0;32mis\u001b[0m \u001b[0;32mNone\u001b[0m\u001b[0;34m:\u001b[0m\u001b[0;34m\u001b[0m\u001b[0;34m\u001b[0m\u001b[0m\n\u001b[0;32m--> 263\u001b[0;31m         \u001b[0mret\u001b[0m \u001b[0;34m=\u001b[0m \u001b[0m_unique1d\u001b[0m\u001b[0;34m(\u001b[0m\u001b[0mar\u001b[0m\u001b[0;34m,\u001b[0m \u001b[0mreturn_index\u001b[0m\u001b[0;34m,\u001b[0m \u001b[0mreturn_inverse\u001b[0m\u001b[0;34m,\u001b[0m \u001b[0mreturn_counts\u001b[0m\u001b[0;34m)\u001b[0m\u001b[0;34m\u001b[0m\u001b[0;34m\u001b[0m\u001b[0m\n\u001b[0m\u001b[1;32m    264\u001b[0m         \u001b[0;32mreturn\u001b[0m \u001b[0m_unpack_tuple\u001b[0m\u001b[0;34m(\u001b[0m\u001b[0mret\u001b[0m\u001b[0;34m)\u001b[0m\u001b[0;34m\u001b[0m\u001b[0;34m\u001b[0m\u001b[0m\n\u001b[1;32m    265\u001b[0m \u001b[0;34m\u001b[0m\u001b[0m\n",
      "\u001b[0;32m~/Library/Python/3.7/lib/python/site-packages/numpy/lib/arraysetops.py\u001b[0m in \u001b[0;36m_unique1d\u001b[0;34m(ar, return_index, return_inverse, return_counts)\u001b[0m\n\u001b[1;32m    309\u001b[0m         \u001b[0maux\u001b[0m \u001b[0;34m=\u001b[0m \u001b[0mar\u001b[0m\u001b[0;34m[\u001b[0m\u001b[0mperm\u001b[0m\u001b[0;34m]\u001b[0m\u001b[0;34m\u001b[0m\u001b[0;34m\u001b[0m\u001b[0m\n\u001b[1;32m    310\u001b[0m     \u001b[0;32melse\u001b[0m\u001b[0;34m:\u001b[0m\u001b[0;34m\u001b[0m\u001b[0;34m\u001b[0m\u001b[0m\n\u001b[0;32m--> 311\u001b[0;31m         \u001b[0mar\u001b[0m\u001b[0;34m.\u001b[0m\u001b[0msort\u001b[0m\u001b[0;34m(\u001b[0m\u001b[0;34m)\u001b[0m\u001b[0;34m\u001b[0m\u001b[0;34m\u001b[0m\u001b[0m\n\u001b[0m\u001b[1;32m    312\u001b[0m         \u001b[0maux\u001b[0m \u001b[0;34m=\u001b[0m \u001b[0mar\u001b[0m\u001b[0;34m\u001b[0m\u001b[0;34m\u001b[0m\u001b[0m\n\u001b[1;32m    313\u001b[0m     \u001b[0mmask\u001b[0m \u001b[0;34m=\u001b[0m \u001b[0mnp\u001b[0m\u001b[0;34m.\u001b[0m\u001b[0mempty\u001b[0m\u001b[0;34m(\u001b[0m\u001b[0maux\u001b[0m\u001b[0;34m.\u001b[0m\u001b[0mshape\u001b[0m\u001b[0;34m,\u001b[0m \u001b[0mdtype\u001b[0m\u001b[0;34m=\u001b[0m\u001b[0mnp\u001b[0m\u001b[0;34m.\u001b[0m\u001b[0mbool_\u001b[0m\u001b[0;34m)\u001b[0m\u001b[0;34m\u001b[0m\u001b[0;34m\u001b[0m\u001b[0m\n",
      "\u001b[0;31mKeyboardInterrupt\u001b[0m: "
     ]
    }
   ],
   "source": [
    "wList = [0.1,0.2,0.3,0.4,0.5,0.6,0.7,0.8,0.9,1]\n",
    "gainList = [0.09,0.1,0.11,0.12,0.13,0.14,0.15, 0.16, 0.165, 0.17, 0.18, 0.19, 0.20]\n",
    "for gain in gainList:\n",
    "    for w in wList:\n",
    "        tree = trainClassifier(train_features, train_labels, choice=['nunez', w], prun=['gain', gain])\n",
    "        test_pred = predict(tree, test_features)\n",
    "        test_acc = np.sum(test_pred==test_labels)/len(test_labels)*100\n",
    "    print('w: %.3f, gain: %.3f, Test Accuracy: %.3f%%' % (w, gain, test_acc))"
   ]
  },
  {
   "cell_type": "code",
   "execution_count": null,
   "metadata": {},
   "outputs": [],
   "source": []
  }
 ],
 "metadata": {
  "kernelspec": {
   "display_name": "Python 3.7.7 64-bit",
   "language": "python",
   "name": "python37764bitd3d6c13e347747d4b75cdea4c808ae91"
  },
  "language_info": {
   "codemirror_mode": {
    "name": "ipython",
    "version": 3
   },
   "file_extension": ".py",
   "mimetype": "text/x-python",
   "name": "python",
   "nbconvert_exporter": "python",
   "pygments_lexer": "ipython3",
   "version": "3.7.7"
  }
 },
 "nbformat": 4,
 "nbformat_minor": 4
}
